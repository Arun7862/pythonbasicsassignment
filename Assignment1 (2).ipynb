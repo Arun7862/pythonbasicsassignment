{
  "nbformat": 4,
  "nbformat_minor": 0,
  "metadata": {
    "colab": {
      "provenance": []
    },
    "kernelspec": {
      "name": "python3",
      "display_name": "Python 3"
    },
    "language_info": {
      "name": "python"
    }
  },
  "cells": [
    {
      "cell_type": "code",
      "execution_count": null,
      "metadata": {
        "id": "AIWWTD1CKWl_"
      },
      "outputs": [],
      "source": []
    },
    {
      "cell_type": "markdown",
      "source": [
        "Q1- Explain the key features of Python that make it a popular choice for programming.\n",
        "\n",
        "Ans- python's simple english makes it easy to learn and understand the programming concept. Simple Language, easy coding, free for use, etc, are some key feature of python.\n"
      ],
      "metadata": {
        "id": "F9N9IlQkRANl"
      }
    },
    {
      "cell_type": "markdown",
      "source": [
        "Q2- Describe the role of predefined keywords in Python and provide examples of how they are used in a programe.\n",
        "\n",
        "#Ans- Predefined keywords in Python are reserved words that have special meaning and purpose in the language. example:- if, else, ifelse, for, while, etc\n"
      ],
      "metadata": {
        "id": "-A8tlcVFUTef"
      }
    },
    {
      "cell_type": "code",
      "source": [
        "#example\n",
        "x = 10\n",
        "if x<= 8:\n",
        "    print(\"positeve number\")\n",
        "elif x>= 8:\n",
        "    print(\"negative number\")\n",
        "else:\n",
        "    print(\"zero\")"
      ],
      "metadata": {
        "colab": {
          "base_uri": "https://localhost:8080/"
        },
        "id": "5CBXxGP9KkkU",
        "outputId": "62bafec3-646d-42db-e65c-19b6580fbf01"
      },
      "execution_count": 14,
      "outputs": [
        {
          "output_type": "stream",
          "name": "stdout",
          "text": [
            "negative number\n"
          ]
        }
      ]
    },
    {
      "cell_type": "markdown",
      "source": [
        "Q3- Compare and contrast mutable and immutable objects in Python with examples.\n",
        "\n",
        "Ans- Mutable objects can be modified after creation, while immutable objects cannot be modified.\n"
      ],
      "metadata": {
        "id": "Ylqc9sBOUbkg"
      }
    },
    {
      "cell_type": "code",
      "source": [
        "#Mutable Examples: Lists, and sets Etc.\n",
        "\n",
        "a= [1,2,3,4,5]\n",
        "a[3] = 8 # replase the value\n",
        "print(a)"
      ],
      "metadata": {
        "colab": {
          "base_uri": "https://localhost:8080/"
        },
        "id": "1BJb8zblRKfP",
        "outputId": "317233e5-a189-475a-ac85-0dae0c95722f"
      },
      "execution_count": 3,
      "outputs": [
        {
          "output_type": "stream",
          "name": "stdout",
          "text": [
            "[1, 2, 3, 8, 5]\n"
          ]
        }
      ]
    },
    {
      "cell_type": "code",
      "source": [
        "#Immutable Examples: Integers, floats, strings\n",
        "list= 5\n",
        "type(list)"
      ],
      "metadata": {
        "colab": {
          "base_uri": "https://localhost:8080/"
        },
        "id": "ncO4FapRTEZW",
        "outputId": "ca2903b6-5b7f-425c-e742-d1669ca5bf74"
      },
      "execution_count": 4,
      "outputs": [
        {
          "output_type": "execute_result",
          "data": {
            "text/plain": [
              "int"
            ]
          },
          "metadata": {},
          "execution_count": 4
        }
      ]
    },
    {
      "cell_type": "code",
      "source": [
        "mylist= 4.5\n",
        "type(mylist)"
      ],
      "metadata": {
        "colab": {
          "base_uri": "https://localhost:8080/"
        },
        "id": "QN5O25maTGoH",
        "outputId": "215e3427-fc71-46a2-e49a-a16425d3645a"
      },
      "execution_count": 5,
      "outputs": [
        {
          "output_type": "execute_result",
          "data": {
            "text/plain": [
              "float"
            ]
          },
          "metadata": {},
          "execution_count": 5
        }
      ]
    },
    {
      "cell_type": "markdown",
      "source": [
        "Q4 Discuss the different types of operators in Python and provide examples of how they are used.\n",
        "\n",
        "Ans-\n",
        "#1- arithmatic operatores (+, -, *, %, /)\n",
        "#2- comparision operatores (true, fluse)\n",
        "#3- logical operatores (and, or)\n",
        "#4- bitwise operatores\n",
        "#5- assinment operators\n",
        "#6- membership opertors\n",
        "#7- identity operators\n",
        "\n"
      ],
      "metadata": {
        "id": "P4DNWnyhTXxz"
      }
    },
    {
      "cell_type": "markdown",
      "source": [
        "Q5- Explain the concept of type casting in Python with examples\n",
        "\n",
        "ans- The process of changing a variable's data type from one to another, for example, from an integer to a string or a float called type casting.\n"
      ],
      "metadata": {
        "id": "M0CIlDhXU48s"
      }
    },
    {
      "cell_type": "code",
      "source": [
        "\n",
        "a= 5\n",
        "type(a)"
      ],
      "metadata": {
        "colab": {
          "base_uri": "https://localhost:8080/"
        },
        "id": "kHU4W1UUTG6N",
        "outputId": "f5372066-2eae-4f8c-927f-37e1c4a48f23"
      },
      "execution_count": 7,
      "outputs": [
        {
          "output_type": "execute_result",
          "data": {
            "text/plain": [
              "int"
            ]
          },
          "metadata": {},
          "execution_count": 7
        }
      ]
    },
    {
      "cell_type": "code",
      "source": [
        "b= float(a)"
      ],
      "metadata": {
        "id": "lhViUHi6TlcD"
      },
      "execution_count": 8,
      "outputs": []
    },
    {
      "cell_type": "code",
      "source": [
        "type(b)"
      ],
      "metadata": {
        "colab": {
          "base_uri": "https://localhost:8080/"
        },
        "id": "agLezSVmToY7",
        "outputId": "d14767da-9a04-44cc-c0e5-221231da9173"
      },
      "execution_count": 9,
      "outputs": [
        {
          "output_type": "execute_result",
          "data": {
            "text/plain": [
              "float"
            ]
          },
          "metadata": {},
          "execution_count": 9
        }
      ]
    },
    {
      "cell_type": "code",
      "source": [
        "print(b)"
      ],
      "metadata": {
        "colab": {
          "base_uri": "https://localhost:8080/"
        },
        "id": "PgMxEW_zTrvX",
        "outputId": "ecda69a2-9752-4306-c44c-d4965fc59a58"
      },
      "execution_count": 10,
      "outputs": [
        {
          "output_type": "stream",
          "name": "stdout",
          "text": [
            "5.0\n"
          ]
        }
      ]
    },
    {
      "cell_type": "markdown",
      "source": [
        "Q6-  How do conditional statements work in Python? Illustrate with examples.\n",
        "\n",
        "Ans conditional statement- if, else, ifelse"
      ],
      "metadata": {
        "id": "Q6w9lg2lU_Je"
      }
    },
    {
      "cell_type": "code",
      "source": [
        "\n",
        "a= 20\n",
        "if a>= 9:\n",
        "    print('positive number')"
      ],
      "metadata": {
        "colab": {
          "base_uri": "https://localhost:8080/"
        },
        "id": "nbw9O8z5TwOz",
        "outputId": "e1710c39-ec4e-4df4-a6ad-55e0d01fc071"
      },
      "execution_count": 11,
      "outputs": [
        {
          "output_type": "stream",
          "name": "stdout",
          "text": [
            "positive number\n"
          ]
        }
      ]
    },
    {
      "cell_type": "code",
      "source": [
        "b= 10\n",
        "if b<=9:\n",
        "    print(\"positive number\")\n",
        "else:\n",
        "    print(\"zero\")"
      ],
      "metadata": {
        "colab": {
          "base_uri": "https://localhost:8080/"
        },
        "id": "SbV_5144TzK5",
        "outputId": "42e10d93-4445-4eab-fa12-371c36ae0649"
      },
      "execution_count": 12,
      "outputs": [
        {
          "output_type": "stream",
          "name": "stdout",
          "text": [
            "zero\n"
          ]
        }
      ]
    },
    {
      "cell_type": "markdown",
      "source": [
        "Q7= Describe the different types of loops in Python and their use cases with examples.\n",
        "\n",
        "Ans= Python two primary loop 'for and while'"
      ],
      "metadata": {
        "id": "x1zNGZRMVL3-"
      }
    },
    {
      "cell_type": "code",
      "source": [
        "\n",
        "\n",
        "#while loops-\n",
        "\n",
        "a= 9\n",
        "while a>= 0:\n",
        "    print(a)\n",
        "    a= a - 1\n"
      ],
      "metadata": {
        "colab": {
          "base_uri": "https://localhost:8080/"
        },
        "id": "BxgHARACT2PP",
        "outputId": "0b1f0acc-a868-4d89-a42a-9694de98661b"
      },
      "execution_count": 13,
      "outputs": [
        {
          "output_type": "stream",
          "name": "stdout",
          "text": [
            "9\n",
            "8\n",
            "7\n",
            "6\n",
            "5\n",
            "4\n",
            "3\n",
            "2\n",
            "1\n",
            "0\n"
          ]
        }
      ]
    },
    {
      "cell_type": "code",
      "source": [],
      "metadata": {
        "id": "akGxfBpZT6_d"
      },
      "execution_count": null,
      "outputs": []
    }
  ]
}