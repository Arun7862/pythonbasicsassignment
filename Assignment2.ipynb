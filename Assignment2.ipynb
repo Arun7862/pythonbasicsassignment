{
  "nbformat": 4,
  "nbformat_minor": 0,
  "metadata": {
    "colab": {
      "provenance": []
    },
    "kernelspec": {
      "name": "python3",
      "display_name": "Python 3"
    },
    "language_info": {
      "name": "python"
    }
  },
  "cells": [
    {
      "cell_type": "markdown",
      "source": [
        "# 1. What are data structures, and why are they important?\n",
        "\n",
        "* Ans: Data structures are specialized format to organizing, storing, and accessing collection of data.\n",
        "\n",
        "## Important\n",
        "* Data structures provide a structured way to represent and manipulate data,\n",
        "making it easier to solve complex problems.\n",
        "* Data structures optimize how data is organized, allowing for faster access, insertion, deletion, and retrieval of information."
      ],
      "metadata": {
        "id": "DO7ZPlJArrYu"
      }
    },
    {
      "cell_type": "markdown",
      "source": [
        "#2. Explain the difference between mutable and immutable data types with examples?\n",
        "\n",
        "* Ans: Mutable data can be change. In immutable data you can not change"
      ],
      "metadata": {
        "id": "F6R58mYWrruC"
      }
    },
    {
      "cell_type": "code",
      "source": [
        "list= [1, 2, 3, 44]\n",
        "type(list)\n",
        "list[2]= 34\n",
        "print(list)"
      ],
      "metadata": {
        "colab": {
          "base_uri": "https://localhost:8080/"
        },
        "id": "K8Nmac31q9aK",
        "outputId": "6a80d863-8458-4ed4-cc62-d4b75592d319"
      },
      "execution_count": 17,
      "outputs": [
        {
          "output_type": "stream",
          "name": "stdout",
          "text": [
            "[1, 2, 34, 44]\n"
          ]
        }
      ]
    },
    {
      "cell_type": "code",
      "source": [
        "list1= {1,2,3,44}\n",
        "list1[1] = 22\n",
        "print(list1)"
      ],
      "metadata": {
        "colab": {
          "base_uri": "https://localhost:8080/",
          "height": 176
        },
        "id": "p1PPS4F6rPW3",
        "outputId": "837ddbdb-8010-4bbc-cff4-ff6c8239542a"
      },
      "execution_count": 19,
      "outputs": [
        {
          "output_type": "error",
          "ename": "TypeError",
          "evalue": "'set' object does not support item assignment",
          "traceback": [
            "\u001b[0;31m---------------------------------------------------------------------------\u001b[0m",
            "\u001b[0;31mTypeError\u001b[0m                                 Traceback (most recent call last)",
            "\u001b[0;32m<ipython-input-19-075ceb3ae9d3>\u001b[0m in \u001b[0;36m<cell line: 0>\u001b[0;34m()\u001b[0m\n\u001b[1;32m      1\u001b[0m \u001b[0mlist1\u001b[0m\u001b[0;34m=\u001b[0m \u001b[0;34m{\u001b[0m\u001b[0;36m1\u001b[0m\u001b[0;34m,\u001b[0m\u001b[0;36m2\u001b[0m\u001b[0;34m,\u001b[0m\u001b[0;36m3\u001b[0m\u001b[0;34m,\u001b[0m\u001b[0;36m44\u001b[0m\u001b[0;34m}\u001b[0m\u001b[0;34m\u001b[0m\u001b[0;34m\u001b[0m\u001b[0m\n\u001b[0;32m----> 2\u001b[0;31m \u001b[0mlist1\u001b[0m\u001b[0;34m[\u001b[0m\u001b[0;36m1\u001b[0m\u001b[0;34m]\u001b[0m \u001b[0;34m=\u001b[0m \u001b[0;36m22\u001b[0m\u001b[0;34m\u001b[0m\u001b[0;34m\u001b[0m\u001b[0m\n\u001b[0m\u001b[1;32m      3\u001b[0m \u001b[0mprint\u001b[0m\u001b[0;34m(\u001b[0m\u001b[0mlist1\u001b[0m\u001b[0;34m)\u001b[0m\u001b[0;34m\u001b[0m\u001b[0;34m\u001b[0m\u001b[0m\n",
            "\u001b[0;31mTypeError\u001b[0m: 'set' object does not support item assignment"
          ]
        }
      ]
    },
    {
      "cell_type": "markdown",
      "source": [
        "# 3. What are the main differences between lists and tuples in Python?\n",
        "\n",
        "* Ans: Lists are mutable, meaning their elements can be changed after creation (elements can be added, removed, or modified). Tuples, on the other hand, are immutable, and their elements cannot be changed after creation.\n"
      ],
      "metadata": {
        "id": "hpp7tb7PtTwD"
      }
    },
    {
      "cell_type": "markdown",
      "source": [
        "# 4. Describe how dictionaries store data?\n",
        "\n",
        "* Dictionaries store data in key:value pair mathod."
      ],
      "metadata": {
        "id": "2OwmmAJYtt0U"
      }
    },
    {
      "cell_type": "markdown",
      "source": [
        "# 5. Why might you use a set instead of a list in Python?\n",
        "\n",
        "* Ans: A set is an unordered collection of unique elements, Set automatically eliminate duplicate values, while a list is an ordered collection that can store duplicate value."
      ],
      "metadata": {
        "id": "DeePZbvAuHhY"
      }
    },
    {
      "cell_type": "markdown",
      "source": [
        "# 6. What is a string in Python, and how is it different from a list?\n",
        "\n",
        "* Ans: a string is a squence of characters. A list can be store anything like intger, flot, string, etc."
      ],
      "metadata": {
        "id": "_dM636aFvNE6"
      }
    },
    {
      "cell_type": "markdown",
      "source": [
        "# 7.  How do tuples ensure data integrity in Python?\n",
        "\n",
        "* Ans: Once a data created in tuples that can not be change, remove, or modify."
      ],
      "metadata": {
        "id": "NLlys9RPwlkI"
      }
    },
    {
      "cell_type": "markdown",
      "source": [
        "# 8. What is a hash table, and how does it relate to dictionaries in Python?\n",
        "\n",
        "* Ans: A hash table is a data structure that stores key-value pairs, using a hash function to compute an index for each key."
      ],
      "metadata": {
        "id": "ZhfD_KTtxMJT"
      }
    },
    {
      "cell_type": "markdown",
      "source": [
        "# 9.  Can lists contain different data types in Python?\n",
        "\n",
        "* Ans: Yes, lists contain different data types."
      ],
      "metadata": {
        "id": "vq4FmtoZxMMj"
      }
    },
    {
      "cell_type": "code",
      "source": [
        "list2= [1, 2, 4, \"Anil\", 7.7, 1+2j, (3, \"Arun\", 9)]"
      ],
      "metadata": {
        "id": "UwhJy_Hzx6lj"
      },
      "execution_count": 20,
      "outputs": []
    },
    {
      "cell_type": "code",
      "source": [
        "list2"
      ],
      "metadata": {
        "colab": {
          "base_uri": "https://localhost:8080/"
        },
        "id": "BidM9-2HyRZY",
        "outputId": "b374e936-bd8d-46ce-beb8-c37493a5be31"
      },
      "execution_count": 21,
      "outputs": [
        {
          "output_type": "execute_result",
          "data": {
            "text/plain": [
              "[1, 2, 4, 'Anil', 7.7, (1+2j), (3, 'Arun', 9)]"
            ]
          },
          "metadata": {},
          "execution_count": 21
        }
      ]
    },
    {
      "cell_type": "markdown",
      "source": [
        "# 10. Explain why strings are immutable in Python.\n",
        "\n",
        "* Ans: Strings in Python are “immutable” which means they can not be changed after they are created."
      ],
      "metadata": {
        "id": "snyYAYMZx6JS"
      }
    },
    {
      "cell_type": "markdown",
      "source": [
        "# 11. What advantages do dictionaries offer over lists for certain tasks?\n",
        "\n",
        "* Ans: Dictionaries provide faster lookups compared to lists when searching by key.\n"
      ],
      "metadata": {
        "id": "rWWUrz8lxMPx"
      }
    },
    {
      "cell_type": "markdown",
      "source": [
        "# 12. Describe a scenario where using a tuple would be preferable over a list?\n",
        "\n",
        "* Ans: If you want your data read only and naver cahnge ten tuple is preferable over list."
      ],
      "metadata": {
        "id": "mIayM4zExMWk"
      }
    },
    {
      "cell_type": "markdown",
      "source": [
        "# 13. How do sets handle duplicate values in Python?\n",
        "\n",
        "* Ans: Sets are designed to store only unique elements. When attempting to add a duplicate value to a set, it is automatically ignored."
      ],
      "metadata": {
        "id": "7C6ud_LX1Wk8"
      }
    },
    {
      "cell_type": "code",
      "source": [
        "set1= {1, 2, 2, 4, 5, 5, 4, 7 }"
      ],
      "metadata": {
        "id": "Nab-I2xq1xBK"
      },
      "execution_count": 24,
      "outputs": []
    },
    {
      "cell_type": "code",
      "source": [
        "set1"
      ],
      "metadata": {
        "colab": {
          "base_uri": "https://localhost:8080/"
        },
        "id": "4SyULlQq2IEl",
        "outputId": "1e0afa13-5767-45cb-ec54-9be904c42c5e"
      },
      "execution_count": 25,
      "outputs": [
        {
          "output_type": "execute_result",
          "data": {
            "text/plain": [
              "{1, 2, 4, 5, 7}"
            ]
          },
          "metadata": {},
          "execution_count": 25
        }
      ]
    },
    {
      "cell_type": "markdown",
      "source": [
        "# 14. How does the “in” keyword work differently for lists and dictionaries?\n",
        "\n",
        "* Ans:"
      ],
      "metadata": {
        "id": "PxnhrCIa1XT4"
      }
    },
    {
      "cell_type": "markdown",
      "source": [
        "# 15. Can you modify the elements of a tuple? Explain why or why not?\n",
        "\n",
        "* Ans: No, you can not modify the elements of a tuple becouse tuples are immutable."
      ],
      "metadata": {
        "id": "k0v5s1KS1XXl"
      }
    },
    {
      "cell_type": "markdown",
      "source": [
        "# 16. What is a nested dictionary, and give an example of its use case?\n",
        "\n",
        "* Ans: A nested dictionary in Python is a dictionary where the values are themselves dictionaries."
      ],
      "metadata": {
        "id": "6zZPngJL1XbK"
      }
    },
    {
      "cell_type": "code",
      "source": [],
      "metadata": {
        "id": "74IL4chC1SLN"
      },
      "execution_count": null,
      "outputs": []
    },
    {
      "cell_type": "markdown",
      "source": [
        "# 17. Describe the time complexity of accessing elements in a dictionary?\n",
        "\n",
        "* Ans: The time complexity of retrieving a value by its key in a dictionary."
      ],
      "metadata": {
        "id": "4wgzx5J83-XB"
      }
    },
    {
      "cell_type": "markdown",
      "source": [
        "# 18. In what situations are lists preferred over dictionaries?\n",
        "\n",
        "* Ans:"
      ],
      "metadata": {
        "id": "Yr_E0KcP3-br"
      }
    },
    {
      "cell_type": "markdown",
      "source": [
        "# 19. Why are dictionaries considered unordered, and how does that affect data retrieval.\n",
        "\n",
        "* ans: A dictionary is termed an unordered collection of objects because dictionaries do not maintain any inherent order of the items based on when they were added."
      ],
      "metadata": {
        "id": "Ca9yP0_X6bCy"
      }
    },
    {
      "cell_type": "markdown",
      "source": [
        "# 20.  Explain the difference between a list and a dictionary in terms of data retrieval.\n",
        "\n",
        "* Ans: In terms of data retrieval, lists access elements by numerical index, while dictionaries access elements by unique keys."
      ],
      "metadata": {
        "id": "obEbq_hf7iDX"
      }
    },
    {
      "cell_type": "code",
      "source": [],
      "metadata": {
        "id": "S2jK45eb7hHP"
      },
      "execution_count": null,
      "outputs": []
    },
    {
      "cell_type": "code",
      "source": [],
      "metadata": {
        "id": "qypqOztDbyeb"
      },
      "execution_count": null,
      "outputs": []
    },
    {
      "cell_type": "markdown",
      "source": [
        "## Practical Questions\n",
        "\n",
        "* (#) denote Quextion number\n"
      ],
      "metadata": {
        "id": "IKXWH9IU8eER"
      }
    },
    {
      "cell_type": "code",
      "source": [
        "#1\n",
        "a= \"arun\""
      ],
      "metadata": {
        "id": "q8jAckDh8meN"
      },
      "execution_count": 27,
      "outputs": []
    },
    {
      "cell_type": "code",
      "source": [
        "print(a)"
      ],
      "metadata": {
        "colab": {
          "base_uri": "https://localhost:8080/"
        },
        "id": "pBnLYBPZ8pD4",
        "outputId": "d76e0cce-b125-410d-89e9-b4b1857bcc6b"
      },
      "execution_count": 30,
      "outputs": [
        {
          "output_type": "stream",
          "name": "stdout",
          "text": [
            "arun\n"
          ]
        }
      ]
    },
    {
      "cell_type": "code",
      "source": [
        "#2\n",
        "b= (\"hello world\")"
      ],
      "metadata": {
        "id": "SSmPJ06g8w8m"
      },
      "execution_count": 33,
      "outputs": []
    },
    {
      "cell_type": "code",
      "source": [
        "len(b)"
      ],
      "metadata": {
        "colab": {
          "base_uri": "https://localhost:8080/"
        },
        "id": "LA-nwIQW9AyH",
        "outputId": "be19c634-6022-457c-a9ff-5b0c0ee927f0"
      },
      "execution_count": 34,
      "outputs": [
        {
          "output_type": "execute_result",
          "data": {
            "text/plain": [
              "11"
            ]
          },
          "metadata": {},
          "execution_count": 34
        }
      ]
    },
    {
      "cell_type": "code",
      "source": [
        "#3\n",
        "a= (\"arun\", \"anil\", \"lokesh\", \"vikas\")"
      ],
      "metadata": {
        "id": "8t-ys7Ju9FmM"
      },
      "execution_count": 35,
      "outputs": []
    },
    {
      "cell_type": "code",
      "source": [
        "a[3:]"
      ],
      "metadata": {
        "colab": {
          "base_uri": "https://localhost:8080/"
        },
        "id": "c3KGqdXR9fXS",
        "outputId": "10b04907-1600-4fd9-b366-098789e24862"
      },
      "execution_count": 36,
      "outputs": [
        {
          "output_type": "execute_result",
          "data": {
            "text/plain": [
              "('vikas',)"
            ]
          },
          "metadata": {},
          "execution_count": 36
        }
      ]
    },
    {
      "cell_type": "code",
      "source": [
        "#4\n",
        "b= \"hello\""
      ],
      "metadata": {
        "id": "kNsA8Cte9vzm"
      },
      "execution_count": 39,
      "outputs": []
    },
    {
      "cell_type": "code",
      "source": [
        "b.upper()"
      ],
      "metadata": {
        "colab": {
          "base_uri": "https://localhost:8080/",
          "height": 35
        },
        "id": "NClHjDiq-Mb5",
        "outputId": "f483e5f6-421b-4364-aa73-123bf5c7256d"
      },
      "execution_count": 40,
      "outputs": [
        {
          "output_type": "execute_result",
          "data": {
            "text/plain": [
              "'HELLO'"
            ],
            "application/vnd.google.colaboratory.intrinsic+json": {
              "type": "string"
            }
          },
          "metadata": {},
          "execution_count": 40
        }
      ]
    },
    {
      "cell_type": "code",
      "source": [
        "#5\n",
        "word= \"i like apple\""
      ],
      "metadata": {
        "id": "-SE-F3e2-PnS"
      },
      "execution_count": 50,
      "outputs": []
    },
    {
      "cell_type": "code",
      "source": [
        "word.replace(\"apple\", \"orange\")"
      ],
      "metadata": {
        "colab": {
          "base_uri": "https://localhost:8080/",
          "height": 35
        },
        "id": "cy-LJJ3p-ea5",
        "outputId": "3fd36216-b8b7-43f5-a56a-8e89078b07f7"
      },
      "execution_count": 52,
      "outputs": [
        {
          "output_type": "execute_result",
          "data": {
            "text/plain": [
              "'i like orange'"
            ],
            "application/vnd.google.colaboratory.intrinsic+json": {
              "type": "string"
            }
          },
          "metadata": {},
          "execution_count": 52
        }
      ]
    },
    {
      "cell_type": "code",
      "source": [
        "#6\n",
        "list= [1, 2, 3, 4, 5]"
      ],
      "metadata": {
        "id": "C3shEjwN-tU3"
      },
      "execution_count": 53,
      "outputs": []
    },
    {
      "cell_type": "code",
      "source": [
        "print(list)"
      ],
      "metadata": {
        "colab": {
          "base_uri": "https://localhost:8080/"
        },
        "id": "cjDI03K-MUZW",
        "outputId": "35a83b9c-d14d-41cb-db6f-0cffddf3caa5"
      },
      "execution_count": 54,
      "outputs": [
        {
          "output_type": "stream",
          "name": "stdout",
          "text": [
            "[1, 2, 3, 4, 5]\n"
          ]
        }
      ]
    },
    {
      "cell_type": "code",
      "source": [
        "#7\n",
        "list= [1, 2, 3, 4]"
      ],
      "metadata": {
        "id": "laVUHki8MW4Y"
      },
      "execution_count": 58,
      "outputs": []
    },
    {
      "cell_type": "code",
      "source": [
        "list.append(10)\n",
        "print(list)"
      ],
      "metadata": {
        "colab": {
          "base_uri": "https://localhost:8080/"
        },
        "id": "4szXWIufMfjT",
        "outputId": "09bf4d35-3662-434d-e24c-8be90ce212e2"
      },
      "execution_count": 59,
      "outputs": [
        {
          "output_type": "stream",
          "name": "stdout",
          "text": [
            "[1, 2, 3, 4, 10]\n"
          ]
        }
      ]
    },
    {
      "cell_type": "code",
      "source": [
        "#8\n",
        "list= [1, 2, 3, 4, 5]"
      ],
      "metadata": {
        "id": "U2CsDfTPMlPb"
      },
      "execution_count": 63,
      "outputs": []
    },
    {
      "cell_type": "code",
      "source": [
        "list.remove(3)\n",
        "print(list)"
      ],
      "metadata": {
        "colab": {
          "base_uri": "https://localhost:8080/"
        },
        "id": "ndJLwwpgM3Dk",
        "outputId": "0aed2d98-7785-478d-a154-0c706fa0fc95"
      },
      "execution_count": 64,
      "outputs": [
        {
          "output_type": "stream",
          "name": "stdout",
          "text": [
            "[1, 2, 4, 5]\n"
          ]
        }
      ]
    },
    {
      "cell_type": "code",
      "source": [
        "#9\n",
        "list1= ['a', 'b', 'c', 'd']"
      ],
      "metadata": {
        "id": "5A68eZYYM8Hr"
      },
      "execution_count": 65,
      "outputs": []
    },
    {
      "cell_type": "code",
      "source": [
        "list[1]"
      ],
      "metadata": {
        "colab": {
          "base_uri": "https://localhost:8080/"
        },
        "id": "hDWrnmGNNMqC",
        "outputId": "9aab0a23-e0c2-4c68-fa47-88e77f6ee54b"
      },
      "execution_count": 66,
      "outputs": [
        {
          "output_type": "execute_result",
          "data": {
            "text/plain": [
              "2"
            ]
          },
          "metadata": {},
          "execution_count": 66
        }
      ]
    },
    {
      "cell_type": "code",
      "source": [
        "#10\n",
        "list2= [10, 20, 30, 40, 50]"
      ],
      "metadata": {
        "id": "j940nBMGNPHN"
      },
      "execution_count": 74,
      "outputs": []
    },
    {
      "cell_type": "code",
      "source": [
        "list2.reverse()\n",
        "print(list2)"
      ],
      "metadata": {
        "colab": {
          "base_uri": "https://localhost:8080/"
        },
        "id": "5vsy3UgRNWqv",
        "outputId": "b542e787-9fcf-4790-bc7b-df2188f2c43a"
      },
      "execution_count": 76,
      "outputs": [
        {
          "output_type": "stream",
          "name": "stdout",
          "text": [
            "[50, 40, 30, 20, 10]\n"
          ]
        }
      ]
    },
    {
      "cell_type": "code",
      "source": [
        "#11\n",
        "t= (100, 200, 300)"
      ],
      "metadata": {
        "id": "YmJ5prcDNbhl"
      },
      "execution_count": 77,
      "outputs": []
    },
    {
      "cell_type": "code",
      "source": [
        "print(t)\n",
        "type(t)"
      ],
      "metadata": {
        "colab": {
          "base_uri": "https://localhost:8080/"
        },
        "id": "nXqLtwvKOt3c",
        "outputId": "de855535-97f1-4322-c1ba-77fc855c98bf"
      },
      "execution_count": 78,
      "outputs": [
        {
          "output_type": "stream",
          "name": "stdout",
          "text": [
            "(100, 200, 300)\n"
          ]
        },
        {
          "output_type": "execute_result",
          "data": {
            "text/plain": [
              "tuple"
            ]
          },
          "metadata": {},
          "execution_count": 78
        }
      ]
    },
    {
      "cell_type": "code",
      "source": [
        "#12\n",
        "t1= ('red', 'green', 'blue', 'yellow')"
      ],
      "metadata": {
        "id": "-RG3r-KZOx3P"
      },
      "execution_count": 79,
      "outputs": []
    },
    {
      "cell_type": "code",
      "source": [
        "t1[1:]"
      ],
      "metadata": {
        "colab": {
          "base_uri": "https://localhost:8080/"
        },
        "id": "NXTlTegJO9b7",
        "outputId": "d6ddaca8-2f1d-450f-f81a-12f6938cf17c"
      },
      "execution_count": 84,
      "outputs": [
        {
          "output_type": "execute_result",
          "data": {
            "text/plain": [
              "('green', 'blue', 'yellow')"
            ]
          },
          "metadata": {},
          "execution_count": 84
        }
      ]
    },
    {
      "cell_type": "code",
      "source": [
        "#13\n",
        "t1= (10, 20, 5, 15)"
      ],
      "metadata": {
        "id": "mx9XN8fhPEW7"
      },
      "execution_count": 86,
      "outputs": []
    },
    {
      "cell_type": "code",
      "source": [
        "min(t1)"
      ],
      "metadata": {
        "colab": {
          "base_uri": "https://localhost:8080/"
        },
        "id": "7-DLmA9EPzaI",
        "outputId": "42d63e8b-1d31-4efe-bf82-e162a41a13fd"
      },
      "execution_count": 87,
      "outputs": [
        {
          "output_type": "execute_result",
          "data": {
            "text/plain": [
              "5"
            ]
          },
          "metadata": {},
          "execution_count": 87
        }
      ]
    },
    {
      "cell_type": "code",
      "source": [
        "#14\n",
        "pat=  ('dog', 'cat', 'rabbit')"
      ],
      "metadata": {
        "id": "y87L0TqrQhk4"
      },
      "execution_count": 97,
      "outputs": []
    },
    {
      "cell_type": "code",
      "source": [
        "pat.index(\"cat\")"
      ],
      "metadata": {
        "colab": {
          "base_uri": "https://localhost:8080/"
        },
        "id": "N96p8_nqUU3Z",
        "outputId": "fa313579-aea9-4d6f-9e0a-9687b4f70300"
      },
      "execution_count": 99,
      "outputs": [
        {
          "output_type": "execute_result",
          "data": {
            "text/plain": [
              "1"
            ]
          },
          "metadata": {},
          "execution_count": 99
        }
      ]
    },
    {
      "cell_type": "code",
      "source": [
        "#15\n",
        "fruit= (\"apple\", \"banana\", \"kiwi\")\n",
        "if \"kiwi\" in fruit:\n",
        "  print(\"love\")"
      ],
      "metadata": {
        "colab": {
          "base_uri": "https://localhost:8080/"
        },
        "id": "o2JJJUO6UZf4",
        "outputId": "7336a0af-05dd-47ab-a92f-a1b6e76c98d4"
      },
      "execution_count": 112,
      "outputs": [
        {
          "output_type": "stream",
          "name": "stdout",
          "text": [
            "love\n"
          ]
        }
      ]
    },
    {
      "cell_type": "code",
      "source": [
        "#16\n",
        "set= {\"a\", \"b\", \"c\"}"
      ],
      "metadata": {
        "id": "4_E2p4PwXnca"
      },
      "execution_count": 113,
      "outputs": []
    },
    {
      "cell_type": "code",
      "source": [
        "set"
      ],
      "metadata": {
        "colab": {
          "base_uri": "https://localhost:8080/"
        },
        "id": "XeFJrajGYVwF",
        "outputId": "6b8c81e8-5ed3-421e-e8bd-c9773e0c776e"
      },
      "execution_count": 114,
      "outputs": [
        {
          "output_type": "execute_result",
          "data": {
            "text/plain": [
              "{'a', 'b', 'c'}"
            ]
          },
          "metadata": {},
          "execution_count": 114
        }
      ]
    },
    {
      "cell_type": "code",
      "source": [
        "#17\n",
        "set1= {1, 2, 3, 4, 5}"
      ],
      "metadata": {
        "id": "j01AOjNGYXF1"
      },
      "execution_count": 115,
      "outputs": []
    },
    {
      "cell_type": "code",
      "source": [
        "set1.clear()\n",
        "print(set1)"
      ],
      "metadata": {
        "colab": {
          "base_uri": "https://localhost:8080/"
        },
        "id": "gBTFmaVvYjAE",
        "outputId": "f70a7825-7322-4850-c32c-f593827308be"
      },
      "execution_count": 118,
      "outputs": [
        {
          "output_type": "stream",
          "name": "stdout",
          "text": [
            "set()\n"
          ]
        }
      ]
    },
    {
      "cell_type": "code",
      "source": [
        "#18\n",
        "set2= {1, 2, 3, 4}"
      ],
      "metadata": {
        "id": "cr3BxwGrYtnD"
      },
      "execution_count": 125,
      "outputs": []
    },
    {
      "cell_type": "code",
      "source": [
        "set2.remove(4)\n",
        "print(set2)"
      ],
      "metadata": {
        "colab": {
          "base_uri": "https://localhost:8080/"
        },
        "id": "llQZuP0KY6n0",
        "outputId": "2ca43bf6-ba4a-404a-a035-3c2040f001ad"
      },
      "execution_count": 124,
      "outputs": [
        {
          "output_type": "stream",
          "name": "stdout",
          "text": [
            "{1, 2, 3}\n"
          ]
        }
      ]
    },
    {
      "cell_type": "code",
      "source": [
        "#19\n",
        "a= {1,2,3}\n",
        "b= {3,4,5}\n",
        "print(a.union(b))"
      ],
      "metadata": {
        "colab": {
          "base_uri": "https://localhost:8080/"
        },
        "id": "0Um5sfmNZEww",
        "outputId": "330801da-51a0-4a4c-f895-29022723479d"
      },
      "execution_count": 127,
      "outputs": [
        {
          "output_type": "stream",
          "name": "stdout",
          "text": [
            "{1, 2, 3, 4, 5}\n"
          ]
        }
      ]
    },
    {
      "cell_type": "code",
      "source": [
        "#20\n",
        "c= {1,2,3}\n",
        "d= {2,3,4}\n",
        "print(c.intersection(d))"
      ],
      "metadata": {
        "colab": {
          "base_uri": "https://localhost:8080/"
        },
        "id": "0csM4WNhaA5t",
        "outputId": "6746e52f-b487-4c35-8e42-290f90ba4eb4"
      },
      "execution_count": 128,
      "outputs": [
        {
          "output_type": "stream",
          "name": "stdout",
          "text": [
            "{2, 3}\n"
          ]
        }
      ]
    },
    {
      "cell_type": "code",
      "source": [
        "#21\n",
        "data= {\"name\": \"arun\", \"age\": 27, \"city\": \"bareilly\"}\n",
        "print(data)"
      ],
      "metadata": {
        "colab": {
          "base_uri": "https://localhost:8080/"
        },
        "id": "TH4Dkm0zaaEX",
        "outputId": "8e8ad70d-cbd1-4629-8257-5c6a93bf67f2"
      },
      "execution_count": 131,
      "outputs": [
        {
          "output_type": "stream",
          "name": "stdout",
          "text": [
            "{'name': 'arun', 'age': 27, 'city': 'bareilly'}\n"
          ]
        }
      ]
    },
    {
      "cell_type": "code",
      "source": [
        "#22\n",
        "dic= {'name': 'John', 'age': 25}\n"
      ],
      "metadata": {
        "id": "rQzgX1KPaaKK"
      },
      "execution_count": 132,
      "outputs": []
    },
    {
      "cell_type": "code",
      "source": [
        "dic2= {\"country\": \"USA\"}"
      ],
      "metadata": {
        "id": "zvB9BC05aaPN"
      },
      "execution_count": 133,
      "outputs": []
    },
    {
      "cell_type": "code",
      "source": [
        "dic.update(dic2)\n",
        "print(dic)"
      ],
      "metadata": {
        "colab": {
          "base_uri": "https://localhost:8080/"
        },
        "id": "nclGlcEoaaU2",
        "outputId": "c16b4011-4d73-43ad-d468-5c9a11156a2c"
      },
      "execution_count": 135,
      "outputs": [
        {
          "output_type": "stream",
          "name": "stdout",
          "text": [
            "{'name': 'John', 'age': 25, 'country': 'USA'}\n"
          ]
        }
      ]
    },
    {
      "cell_type": "code",
      "source": [
        "#23\n",
        "d= {\"name\": \"Alice\", \"age\": 30}"
      ],
      "metadata": {
        "id": "x0INtTmBdUZh"
      },
      "execution_count": 139,
      "outputs": []
    },
    {
      "cell_type": "code",
      "source": [
        "d[\"name\"]"
      ],
      "metadata": {
        "colab": {
          "base_uri": "https://localhost:8080/",
          "height": 35
        },
        "id": "LXeAu4zzdp1U",
        "outputId": "662ce695-88f9-4e4c-c320-21b637143574"
      },
      "execution_count": 141,
      "outputs": [
        {
          "output_type": "execute_result",
          "data": {
            "text/plain": [
              "'Alice'"
            ],
            "application/vnd.google.colaboratory.intrinsic+json": {
              "type": "string"
            }
          },
          "metadata": {},
          "execution_count": 141
        }
      ]
    },
    {
      "cell_type": "code",
      "source": [
        "#24\n",
        "d1=  {\"name\": \"Bob\", \"age\": 22, \"city\": \"New York\"}"
      ],
      "metadata": {
        "id": "puVsJvKJdvwE"
      },
      "execution_count": 156,
      "outputs": []
    },
    {
      "cell_type": "code",
      "source": [
        "del d1[\"age\"]"
      ],
      "metadata": {
        "id": "dJV_AzlWeEUY"
      },
      "execution_count": 157,
      "outputs": []
    },
    {
      "cell_type": "code",
      "source": [
        "d1"
      ],
      "metadata": {
        "colab": {
          "base_uri": "https://localhost:8080/"
        },
        "id": "GSYA159Neg-Y",
        "outputId": "b0c2c819-7c87-445c-cef8-e1ad3b9e3689"
      },
      "execution_count": 158,
      "outputs": [
        {
          "output_type": "execute_result",
          "data": {
            "text/plain": [
              "{'name': 'Bob', 'city': 'New York'}"
            ]
          },
          "metadata": {},
          "execution_count": 158
        }
      ]
    },
    {
      "cell_type": "code",
      "source": [
        "#25\n",
        "d2= {\"name\": \"Alice\", \"city\": \"Paris\"}\n",
        "print(d2.pop(\"city\"))"
      ],
      "metadata": {
        "colab": {
          "base_uri": "https://localhost:8080/"
        },
        "id": "yutwh8GGf0O6",
        "outputId": "8862618e-b67e-4ddb-8ab2-abcda231bbc8"
      },
      "execution_count": 166,
      "outputs": [
        {
          "output_type": "stream",
          "name": "stdout",
          "text": [
            "Paris\n"
          ]
        }
      ]
    },
    {
      "cell_type": "code",
      "source": [
        "#26\n",
        "a= {\"name\": (\"arun\", \"anil\", \"lokesh\"),\"age\": [22, 25, 29], \"city\": \"bareilly\"}"
      ],
      "metadata": {
        "id": "PHxkJmb1iLKM"
      },
      "execution_count": 168,
      "outputs": []
    },
    {
      "cell_type": "code",
      "source": [
        "a"
      ],
      "metadata": {
        "colab": {
          "base_uri": "https://localhost:8080/"
        },
        "id": "Njlpu7I0iNxI",
        "outputId": "25c562f1-e0e1-404c-de9f-e63de8be3219"
      },
      "execution_count": 169,
      "outputs": [
        {
          "output_type": "execute_result",
          "data": {
            "text/plain": [
              "{'name': ('arun', 'anil', 'lokesh'), 'age': [22, 25, 29], 'city': 'bareilly'}"
            ]
          },
          "metadata": {},
          "execution_count": 169
        }
      ]
    },
    {
      "cell_type": "code",
      "source": [
        "#27\n",
        "number= [25, 10, 89, 44, 6]"
      ],
      "metadata": {
        "id": "mBSaN26Qj1Vc"
      },
      "execution_count": 170,
      "outputs": []
    },
    {
      "cell_type": "code",
      "source": [
        "number.sort()\n",
        "print(number)"
      ],
      "metadata": {
        "colab": {
          "base_uri": "https://localhost:8080/"
        },
        "id": "pW7UqccjkIwg",
        "outputId": "31ac1033-a245-4c9a-b279-6afc53ec5525"
      },
      "execution_count": 173,
      "outputs": [
        {
          "output_type": "stream",
          "name": "stdout",
          "text": [
            "[6, 10, 25, 44, 89]\n"
          ]
        }
      ]
    },
    {
      "cell_type": "code",
      "source": [
        "#28\n",
        "list3= [\"apple\", \"banana\", \"lichi\", \"lemon\", \"pineapple\"]"
      ],
      "metadata": {
        "id": "0IK4HchBkJmy"
      },
      "execution_count": 174,
      "outputs": []
    },
    {
      "cell_type": "code",
      "source": [
        "list3[3]"
      ],
      "metadata": {
        "colab": {
          "base_uri": "https://localhost:8080/",
          "height": 35
        },
        "id": "k-KFxdPJkJsw",
        "outputId": "a0b1dd78-45aa-4530-e368-c27bcea42c3e"
      },
      "execution_count": 180,
      "outputs": [
        {
          "output_type": "execute_result",
          "data": {
            "text/plain": [
              "'lemon'"
            ],
            "application/vnd.google.colaboratory.intrinsic+json": {
              "type": "string"
            }
          },
          "metadata": {},
          "execution_count": 180
        }
      ]
    },
    {
      "cell_type": "code",
      "source": [
        "#29\n",
        "d3= {\"name\": \"arun\", \"city\": \"bareilly\",}\n",
        "d4= {\"age\": 28, \"email\": \"arun@gmail.com\"}"
      ],
      "metadata": {
        "id": "P1H04BDBkJzX"
      },
      "execution_count": 181,
      "outputs": []
    },
    {
      "cell_type": "code",
      "source": [
        "d3.update(d4)\n",
        "print(d3)"
      ],
      "metadata": {
        "colab": {
          "base_uri": "https://localhost:8080/"
        },
        "id": "XM5zDjHwoR-K",
        "outputId": "2c47678e-e885-4aa9-9229-4b52b138663b"
      },
      "execution_count": 183,
      "outputs": [
        {
          "output_type": "stream",
          "name": "stdout",
          "text": [
            "{'name': 'arun', 'city': 'bareilly', 'age': 28, 'email': 'arun@gmail.com'}\n"
          ]
        }
      ]
    },
    {
      "cell_type": "code",
      "source": [
        "#30\n",
        "list4= [\"anil\", \"apple\", \"arun\", \"bnana\", \"lokesh\", \"vikas\", \"apple\"]\n",
        "set1= set(list4)"
      ],
      "metadata": {
        "colab": {
          "base_uri": "https://localhost:8080/",
          "height": 176
        },
        "id": "YWFI6sqlob4I",
        "outputId": "fbc5f166-79c5-45dc-c942-6525acab4da8"
      },
      "execution_count": 197,
      "outputs": [
        {
          "output_type": "error",
          "ename": "TypeError",
          "evalue": "'set' object is not callable",
          "traceback": [
            "\u001b[0;31m---------------------------------------------------------------------------\u001b[0m",
            "\u001b[0;31mTypeError\u001b[0m                                 Traceback (most recent call last)",
            "\u001b[0;32m<ipython-input-197-25eff82e4663>\u001b[0m in \u001b[0;36m<cell line: 0>\u001b[0;34m()\u001b[0m\n\u001b[1;32m      1\u001b[0m \u001b[0;31m#30\u001b[0m\u001b[0;34m\u001b[0m\u001b[0;34m\u001b[0m\u001b[0m\n\u001b[1;32m      2\u001b[0m \u001b[0mlist4\u001b[0m\u001b[0;34m=\u001b[0m \u001b[0;34m[\u001b[0m\u001b[0;34m\"anil\"\u001b[0m\u001b[0;34m,\u001b[0m \u001b[0;34m\"apple\"\u001b[0m\u001b[0;34m,\u001b[0m \u001b[0;34m\"arun\"\u001b[0m\u001b[0;34m,\u001b[0m \u001b[0;34m\"bnana\"\u001b[0m\u001b[0;34m,\u001b[0m \u001b[0;34m\"lokesh\"\u001b[0m\u001b[0;34m,\u001b[0m \u001b[0;34m\"vikas\"\u001b[0m\u001b[0;34m,\u001b[0m \u001b[0;34m\"apple\"\u001b[0m\u001b[0;34m]\u001b[0m\u001b[0;34m\u001b[0m\u001b[0;34m\u001b[0m\u001b[0m\n\u001b[0;32m----> 3\u001b[0;31m \u001b[0mset1\u001b[0m\u001b[0;34m=\u001b[0m \u001b[0mset\u001b[0m\u001b[0;34m(\u001b[0m\u001b[0mlist4\u001b[0m\u001b[0;34m)\u001b[0m\u001b[0;34m\u001b[0m\u001b[0;34m\u001b[0m\u001b[0m\n\u001b[0m",
            "\u001b[0;31mTypeError\u001b[0m: 'set' object is not callable"
          ]
        }
      ]
    },
    {
      "cell_type": "code",
      "source": [
        "list= [\"anil\", \"apple\", \"arun\", \"bnana\", \"lokesh\", \"vikas\", \"apple\"]\n",
        "myset= set(list)"
      ],
      "metadata": {
        "colab": {
          "base_uri": "https://localhost:8080/",
          "height": 159
        },
        "id": "oCR_rEJsqI_s",
        "outputId": "2c8775c7-60db-4502-afe7-f7b85aa24bf9"
      },
      "execution_count": 201,
      "outputs": [
        {
          "output_type": "error",
          "ename": "TypeError",
          "evalue": "'set' object is not callable",
          "traceback": [
            "\u001b[0;31m---------------------------------------------------------------------------\u001b[0m",
            "\u001b[0;31mTypeError\u001b[0m                                 Traceback (most recent call last)",
            "\u001b[0;32m<ipython-input-201-710e16f23f7f>\u001b[0m in \u001b[0;36m<cell line: 0>\u001b[0;34m()\u001b[0m\n\u001b[1;32m      1\u001b[0m \u001b[0mlist\u001b[0m\u001b[0;34m=\u001b[0m \u001b[0;34m[\u001b[0m\u001b[0;34m\"anil\"\u001b[0m\u001b[0;34m,\u001b[0m \u001b[0;34m\"apple\"\u001b[0m\u001b[0;34m,\u001b[0m \u001b[0;34m\"arun\"\u001b[0m\u001b[0;34m,\u001b[0m \u001b[0;34m\"bnana\"\u001b[0m\u001b[0;34m,\u001b[0m \u001b[0;34m\"lokesh\"\u001b[0m\u001b[0;34m,\u001b[0m \u001b[0;34m\"vikas\"\u001b[0m\u001b[0;34m,\u001b[0m \u001b[0;34m\"apple\"\u001b[0m\u001b[0;34m]\u001b[0m\u001b[0;34m\u001b[0m\u001b[0;34m\u001b[0m\u001b[0m\n\u001b[0;32m----> 2\u001b[0;31m \u001b[0mmyset\u001b[0m\u001b[0;34m=\u001b[0m \u001b[0mset\u001b[0m\u001b[0;34m(\u001b[0m\u001b[0mlist\u001b[0m\u001b[0;34m)\u001b[0m\u001b[0;34m\u001b[0m\u001b[0;34m\u001b[0m\u001b[0m\n\u001b[0m",
            "\u001b[0;31mTypeError\u001b[0m: 'set' object is not callable"
          ]
        }
      ]
    },
    {
      "cell_type": "code",
      "source": [],
      "metadata": {
        "id": "2aWsLwTytus2"
      },
      "execution_count": null,
      "outputs": []
    }
  ]
}