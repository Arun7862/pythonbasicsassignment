{
  "nbformat": 4,
  "nbformat_minor": 0,
  "metadata": {
    "colab": {
      "provenance": []
    },
    "kernelspec": {
      "name": "python3",
      "display_name": "Python 3"
    },
    "language_info": {
      "name": "python"
    }
  },
  "cells": [
    {
      "cell_type": "markdown",
      "source": [
        "#  Theory"
      ],
      "metadata": {
        "id": "o6eFSfQG3uNs"
      }
    },
    {
      "cell_type": "markdown",
      "source": [
        "Ans:1-\n",
        "Statistics is a field of mathematics that deals with collecting, organizing, analyzing, interpreting, and presenting data.\n",
        "\n",
        "\n",
        "Ans:2-\n",
        "Descriptive statistics and Inferential statistics\n",
        "\n",
        "Ans:3-\n",
        "Descriptive statistics are a branch of statistics that focuses on summarizing and organizing data in a meaningful and concise way, without making inferences or generalizations about a larger population.\n",
        "\n",
        "Ans:4-\n",
        "Inferential statistics is a branch of statistics that uses sample data to make inferences or generalizations about a larger population or to test hypotheses about a population.\n",
        "\n",
        "Ans:5-\n",
        "Sampling is the process of selecting a subset, or sample, from a larger population to make inferences or draw conclusions about the entire population.\n",
        "\n",
        "Ans:6-\n",
        "Probability sampling and Non-probability sampling.\n",
        "\n",
        "Ans:7-\n",
        "Random sampling means each member of the population has an equal chance of being selected for a sample.\n",
        "\n",
        "Non-random sampling involves selecting participants based on convenience, judgment, or other criteria, rather than chance.\n",
        "\n",
        "\n",
        "Ans:8-\n",
        "Qualitative data describes qualities or characteristics that are not expressed numerically.\n",
        "\n",
        "Ans:9-\n",
        "Qualitative and Quantitative data.\n",
        "\n",
        "Ans:10-\n",
        "*   Nominal:\n",
        "Data is categorized into distinct groups with no inherent order. Examples include gender, blood type, or types of cars.\n",
        "*   Ordinal:\n",
        "Data is categorized and can be ranked, but the distance between categories is not equal. Examples include movie ratings e.g., excellent, good, fair, education levels, or customer satisfaction scales.\n",
        "*   Interval:\n",
        "Data is categorized, ranked, and has equal intervals between values, but the zero point is arbitrary. Examples include temperature Celsius or Fahrenheit, or date.\n",
        "*   Ratio:\n",
        "Data is categorized, ranked, has equal intervals, and has a true zero point. Examples include height, weight, or age.\n",
        "\n",
        "\n",
        "Ans:11-\n",
        "The most common measures of central tendency are mean, median, and mode.\n",
        "\n",
        "Ans:12-\n",
        "    Mean is the average of a set of numbers, calculated by summing all values and dividing by the total count.\n",
        "\n",
        "  Median is the middle value in a sorted dataset, with half the values above and half below.\n",
        "\n",
        "  Mode is the most frequent value in a dataset.\n",
        "\n",
        "Ans:13-\n",
        "Measures of central tendency representative value to describe a dataset, offering a concise overview of the data's central location.\n",
        "\n",
        "Ans:14-\n",
        "Variance is a statistical measure that quantifies the spread or dispersion of a set of data points around their mean. It's calculated by finding the average of the squared differences between each data point and the mean.\n",
        "\n",
        "Ans:15-\n",
        "Standard deviation is a statistical measure that indicates the spread or dispersion of a dataset around its mean.\n",
        "\n",
        "\n",
        "Ans:16-\n",
        "The range is the difference between the highest and lowest values in a dataset\n",
        "\n",
        "Ans:17-\n",
        "Variance and standard deviation are both measures of data spread, but they differ in how they're calculated and what they represent. Variance is the average of the squared differences from the mean, while standard deviation is the square root of the variance.\n",
        "\n",
        "\n",
        "Ans:18-\n",
        "Skewness in a dataset refers to the asymmetry or lack of symmetry in the distribution of data points around the mean.\n",
        "\n",
        "Ans:19-\n",
        "Positive skewness means the distribution is skewed to the right, with the longer tail extending towards higher values.\n",
        "\n",
        "Ans:20-\n",
        "Kurtosis is a descriptive statistic used to help measure how data disperse between a distribution's center and tails.\n",
        "\n",
        "Ans:21-\n",
        "Covariance primarily serves to measure the directional relationship between two variables.\n",
        "\n",
        "Ans:22-\n",
        "Correlation measures the strength and direction of the relationship between two variables.\n",
        "\n",
        "Ans:23-\n",
        "Covariance measures how two random variables change together, while correlation measures the strength and direction of their linear relationship.\n",
        "\n",
        "Ans:24-\n",
        "Statistics is a powerful tool used in a vast array of real-world applications, from understanding trends in business to making informed decisions."
      ],
      "metadata": {
        "id": "yqKJJs3i3wIM"
      }
    },
    {
      "cell_type": "markdown",
      "source": [
        "#   Practical Question"
      ],
      "metadata": {
        "id": "VAltbvBT99f5"
      }
    },
    {
      "cell_type": "code",
      "execution_count": 1,
      "metadata": {
        "id": "twlqytac3mTb"
      },
      "outputs": [],
      "source": [
        "#Ans- 1:-\n",
        "import statistics"
      ]
    },
    {
      "cell_type": "code",
      "source": [
        "data= [1,2,4,5,6,7,11,2,22,23,34,40]"
      ],
      "metadata": {
        "id": "DA2LnUHHl5Cu"
      },
      "execution_count": 10,
      "outputs": []
    },
    {
      "cell_type": "code",
      "source": [
        "statistics.mean(data)"
      ],
      "metadata": {
        "colab": {
          "base_uri": "https://localhost:8080/"
        },
        "id": "OvkbsvQdmABx",
        "outputId": "37dbdb52-012f-49c6-c82b-944c8325d17b"
      },
      "execution_count": 11,
      "outputs": [
        {
          "output_type": "execute_result",
          "data": {
            "text/plain": [
              "13.083333333333334"
            ]
          },
          "metadata": {},
          "execution_count": 11
        }
      ]
    },
    {
      "cell_type": "code",
      "source": [
        "statistics.median(data)"
      ],
      "metadata": {
        "colab": {
          "base_uri": "https://localhost:8080/"
        },
        "id": "JFEemLaAmFK1",
        "outputId": "cb294461-cce0-4759-d9d6-fe1c9db5acb6"
      },
      "execution_count": 12,
      "outputs": [
        {
          "output_type": "execute_result",
          "data": {
            "text/plain": [
              "6.5"
            ]
          },
          "metadata": {},
          "execution_count": 12
        }
      ]
    },
    {
      "cell_type": "code",
      "source": [
        "statistics.mode(data)"
      ],
      "metadata": {
        "colab": {
          "base_uri": "https://localhost:8080/"
        },
        "id": "1iWU02ShmKNg",
        "outputId": "cf0d859d-01e7-4055-aaf9-9f99b5fa501b"
      },
      "execution_count": 13,
      "outputs": [
        {
          "output_type": "execute_result",
          "data": {
            "text/plain": [
              "2"
            ]
          },
          "metadata": {},
          "execution_count": 13
        }
      ]
    },
    {
      "cell_type": "code",
      "execution_count": 14,
      "metadata": {
        "id": "mX3W8Bge-EEt"
      },
      "outputs": [],
      "source": [
        "#Ans- 2:-\n",
        "\n",
        "data= [1,2,4,5,6,7,11,2,22,23,34,40]"
      ]
    },
    {
      "cell_type": "code",
      "source": [
        "statistics.variance(data)"
      ],
      "metadata": {
        "colab": {
          "base_uri": "https://localhost:8080/"
        },
        "id": "H97X_hriwRT4",
        "outputId": "39b40f58-e1f0-4d56-bc7e-3fb12faff5ea"
      },
      "execution_count": 15,
      "outputs": [
        {
          "output_type": "execute_result",
          "data": {
            "text/plain": [
              "179.17424242424244"
            ]
          },
          "metadata": {},
          "execution_count": 15
        }
      ]
    },
    {
      "cell_type": "code",
      "source": [
        "statistics.stdev(data)"
      ],
      "metadata": {
        "colab": {
          "base_uri": "https://localhost:8080/"
        },
        "id": "Gwh_WgtZwWv7",
        "outputId": "43bd3463-5871-4c78-e77e-53269d0092c4"
      },
      "execution_count": 16,
      "outputs": [
        {
          "output_type": "execute_result",
          "data": {
            "text/plain": [
              "13.38559832148875"
            ]
          },
          "metadata": {},
          "execution_count": 16
        }
      ]
    },
    {
      "cell_type": "code",
      "execution_count": null,
      "metadata": {
        "id": "-KmrPr1_-Eii"
      },
      "outputs": [],
      "source": [
        "#Ans- 3:-"
      ]
    },
    {
      "cell_type": "code",
      "execution_count": 18,
      "metadata": {
        "id": "cTNDjTZ4-EqJ"
      },
      "outputs": [],
      "source": [
        "#Ans- 4:-\n",
        "import pandas as pd\n",
        "data= [1,2,4,5,6,7,11,2,22,23,34,40]"
      ]
    },
    {
      "cell_type": "code",
      "execution_count": 67,
      "metadata": {
        "id": "Le4R8IgU-Exw"
      },
      "outputs": [],
      "source": [
        "#Ans- 5:-\n",
        "data= [1,2,4,5,6,7,11,2,22,23,34,40]"
      ]
    },
    {
      "cell_type": "code",
      "source": [
        "max(data)- min(data)"
      ],
      "metadata": {
        "colab": {
          "base_uri": "https://localhost:8080/"
        },
        "id": "6Lj7WwHIyEwV",
        "outputId": "8a4ca56b-6b54-496d-8f33-6d7af5c564cc"
      },
      "execution_count": 68,
      "outputs": [
        {
          "output_type": "execute_result",
          "data": {
            "text/plain": [
              "39"
            ]
          },
          "metadata": {},
          "execution_count": 68
        }
      ]
    },
    {
      "cell_type": "code",
      "execution_count": 24,
      "metadata": {
        "id": "emwbXJQE-E5a"
      },
      "outputs": [],
      "source": [
        "#Ans- 6:-\n",
        "import numpy as np\n",
        "import matplotlib.pyplot as plt\n",
        "data = np.random.lognormal(mean=1, sigma=0.5, size=1000)"
      ]
    },
    {
      "cell_type": "code",
      "source": [
        "plt.hist(data, bins=10, density=True)\n"
      ],
      "metadata": {
        "colab": {
          "base_uri": "https://localhost:8080/",
          "height": 540
        },
        "id": "r-VOPmFRzCfg",
        "outputId": "dcb536a8-58d3-4ecf-90c8-8eabff4bceaf"
      },
      "execution_count": 27,
      "outputs": [
        {
          "output_type": "execute_result",
          "data": {
            "text/plain": [
              "(array([0.13096765, 0.30535392, 0.17509805, 0.0626367 , 0.02420054,\n",
              "        0.00640603, 0.00142356, 0.00427068, 0.00071178, 0.00071178]),\n",
              " array([ 0.37187796,  1.77680507,  3.18173218,  4.5866593 ,  5.99158641,\n",
              "         7.39651352,  8.80144064, 10.20636775, 11.61129486, 13.01622198,\n",
              "        14.42114909]),\n",
              " <BarContainer object of 10 artists>)"
            ]
          },
          "metadata": {},
          "execution_count": 27
        },
        {
          "output_type": "display_data",
          "data": {
            "text/plain": [
              "<Figure size 640x480 with 1 Axes>"
            ],
            "image/png": "[encoded data removed]"
          },
          "metadata": {}
        }
      ]
    },
    {
      "cell_type": "code",
      "execution_count": 29,
      "metadata": {
        "colab": {
          "base_uri": "https://localhost:8080/"
        },
        "id": "pFqPwah3-FAq",
        "outputId": "c4eaf3f2-c729-47e0-c97c-e2d389a95d4d"
      },
      "outputs": [
        {
          "output_type": "execute_result",
          "data": {
            "text/plain": [
              "[1, 2, 4, 5, 6, 7, 11, 2, 22, 23, 34, 40]"
            ]
          },
          "metadata": {},
          "execution_count": 29
        }
      ],
      "source": [
        "#Ans- 7:-\n",
        "import numpy as np\n",
        "from scipy.stats import skew, kurtosis\n",
        "data= [1,2,4,5,6,7,11,2,22,23,34,40]\n",
        "data"
      ]
    },
    {
      "cell_type": "code",
      "source": [
        "kewness = skew(data)\n",
        "kewness"
      ],
      "metadata": {
        "colab": {
          "base_uri": "https://localhost:8080/"
        },
        "id": "Y4ZjYN871zYh",
        "outputId": "c6abdd67-5a73-4177-f283-3078476c268d"
      },
      "execution_count": 31,
      "outputs": [
        {
          "output_type": "execute_result",
          "data": {
            "text/plain": [
              "np.float64(0.9494637918130004)"
            ]
          },
          "metadata": {},
          "execution_count": 31
        }
      ]
    },
    {
      "cell_type": "code",
      "source": [
        "kurt = kurtosis(data)\n",
        "kurt"
      ],
      "metadata": {
        "colab": {
          "base_uri": "https://localhost:8080/"
        },
        "id": "MDN7Lye-17Sr",
        "outputId": "30582f73-c862-4579-f876-91e134a13cb9"
      },
      "execution_count": 32,
      "outputs": [
        {
          "output_type": "execute_result",
          "data": {
            "text/plain": [
              "np.float64(-0.5323705453308882)"
            ]
          },
          "metadata": {},
          "execution_count": 32
        }
      ]
    },
    {
      "cell_type": "code",
      "source": [],
      "metadata": {
        "id": "K8ZruhEk2QGq"
      },
      "execution_count": null,
      "outputs": []
    },
    {
      "cell_type": "code",
      "execution_count": 33,
      "metadata": {
        "id": "CS7ec7gu-FIL"
      },
      "outputs": [],
      "source": [
        "#Ans- 8:-\n",
        "import numpy as np\n",
        "import seaborn as sns\n",
        "import matplotlib.pyplot as plt\n",
        "from scipy.stats import skew\n"
      ]
    },
    {
      "cell_type": "code",
      "source": [
        "ps = np.random.exponential(scale=2, size=1000)\n",
        "ns= -np.random.exponential(scale=2, size=1000)\n"
      ],
      "metadata": {
        "id": "KCl-SXMg2si-"
      },
      "execution_count": 37,
      "outputs": []
    },
    {
      "cell_type": "code",
      "execution_count": 40,
      "metadata": {
        "colab": {
          "base_uri": "https://localhost:8080/"
        },
        "id": "44gNtCxc-FQD",
        "outputId": "af22289b-2063-4119-f7f0-6f8bfd88ee89"
      },
      "outputs": [
        {
          "output_type": "execute_result",
          "data": {
            "text/plain": [
              "array([[10. ,  7. ],\n",
              "       [ 7. ,  5.8]])"
            ]
          },
          "metadata": {},
          "execution_count": 40
        }
      ],
      "source": [
        "#Ans- 9:-\n",
        "import numpy as np\n",
        "\n",
        "x = [2, 4, 6, 8, 10]\n",
        "y = [1, 3, 2, 5, 7]\n",
        "\n",
        "x_array = np.array(x)\n",
        "y_array = np.array(y)\n",
        "\n",
        "cov_matrix = np.cov(x_array, y_array)\n",
        "cov_matrix"
      ]
    },
    {
      "cell_type": "code",
      "execution_count": 69,
      "metadata": {
        "colab": {
          "base_uri": "https://localhost:8080/"
        },
        "id": "ytpZJQm_-FX0",
        "outputId": "552a2a23-6d8b-4df8-ccbf-413b092401b9"
      },
      "outputs": [
        {
          "output_type": "execute_result",
          "data": {
            "text/plain": [
              "np.float64(0.993689057556347)"
            ]
          },
          "metadata": {},
          "execution_count": 69
        }
      ],
      "source": [
        "#Ans- 10:-\n",
        "\n",
        "data1 = [10, 20, 30, 40, 50]\n",
        "data2 = [12, 24, 33, 39, 52]\n",
        "\n",
        "corr_numpy = np.corrcoef(data1, data2)[0, 1]\n",
        "\n",
        "corr_numpy\n"
      ]
    },
    {
      "cell_type": "code",
      "execution_count": 41,
      "metadata": {
        "colab": {
          "base_uri": "https://localhost:8080/",
          "height": 472
        },
        "id": "IpLyMpIL-Ffe",
        "outputId": "2ecea515-6d89-4a07-ad63-06c1434f65ae"
      },
      "outputs": [
        {
          "output_type": "display_data",
          "data": {
            "text/plain": [
              "<Figure size 640x480 with 1 Axes>"
            ],
            "image/png": "[encoded data removed]"
          },
          "metadata": {}
        }
      ],
      "source": [
        "#Ans- 11:-\n",
        "import matplotlib.pyplot as plt\n",
        "\n",
        "x = [2, 4, 6, 8, 10]\n",
        "y = [1, 3, 2, 5, 7]\n",
        "\n",
        "plt.scatter(x, y, color='blue', marker='o')\n",
        "\n",
        "plt.title('Scatter Plot of X vs Y')\n",
        "plt.xlabel('X Values')\n",
        "plt.ylabel('Y Values')\n",
        "\n",
        "plt.show()\n"
      ]
    },
    {
      "cell_type": "code",
      "execution_count": null,
      "metadata": {
        "id": "Z4LRx70J-Fm5"
      },
      "outputs": [],
      "source": [
        "#Ans- 12:-"
      ]
    },
    {
      "cell_type": "code",
      "execution_count": null,
      "metadata": {
        "id": "B-LpXIsi-Ftl"
      },
      "outputs": [],
      "source": [
        "#Ans- 13:-"
      ]
    },
    {
      "cell_type": "code",
      "execution_count": null,
      "metadata": {
        "id": "hI4QbAI5-Fzp"
      },
      "outputs": [],
      "source": [
        "#Ans- 14:-"
      ]
    },
    {
      "cell_type": "code",
      "execution_count": 42,
      "metadata": {
        "id": "buHOYAWw-F6q"
      },
      "outputs": [],
      "source": [
        "#Ans- 15:-\n",
        "import pandas as pd\n",
        "import numpy as np\n",
        "\n",
        "data = np.random.randint(10, 100, size=100)\n",
        "\n",
        "df = pd.DataFrame(data, columns=['Values'])\n",
        "\n",
        "desc_stats = df.describe()"
      ]
    },
    {
      "cell_type": "code",
      "source": [
        "desc_stats"
      ],
      "metadata": {
        "colab": {
          "base_uri": "https://localhost:8080/",
          "height": 300
        },
        "id": "CI8U2u-O7lsU",
        "outputId": "ab4b268e-dec8-4cc0-d867-daf2cb2d284f"
      },
      "execution_count": 45,
      "outputs": [
        {
          "output_type": "execute_result",
          "data": {
            "text/plain": [
              "           Values\n",
              "count  100.000000\n",
              "mean    56.290000\n",
              "std     24.801147\n",
              "min     16.000000\n",
              "25%     36.750000\n",
              "50%     51.000000\n",
              "75%     78.000000\n",
              "max     99.000000"
            ],
            "text/html": [
              "\n",
              "  <div id=\"df-828fbdb7-770f-42b1-8bd4-e03a2f505732\" class=\"colab-df-container\">\n",
              "    <div>\n",
              "<style scoped>\n",
              "    .dataframe tbody tr th:only-of-type {\n",
              "        vertical-align: middle;\n",
              "    }\n",
              "\n",
              "    .dataframe tbody tr th {\n",
              "        vertical-align: top;\n",
              "    }\n",
              "\n",
              "    .dataframe thead th {\n",
              "        text-align: right;\n",
              "    }\n",
              "</style>\n",
              "<table border=\"1\" class=\"dataframe\">\n",
              "  <thead>\n",
              "    <tr style=\"text-align: right;\">\n",
              "      <th></th>\n",
              "      <th>Values</th>\n",
              "    </tr>\n",
              "  </thead>\n",
              "  <tbody>\n",
              "    <tr>\n",
              "      <th>count</th>\n",
              "      <td>100.000000</td>\n",
              "    </tr>\n",
              "    <tr>\n",
              "      <th>mean</th>\n",
              "      <td>56.290000</td>\n",
              "    </tr>\n",
              "    <tr>\n",
              "      <th>std</th>\n",
              "      <td>24.801147</td>\n",
              "    </tr>\n",
              "    <tr>\n",
              "      <th>min</th>\n",
              "      <td>16.000000</td>\n",
              "    </tr>\n",
              "    <tr>\n",
              "      <th>25%</th>\n",
              "      <td>36.750000</td>\n",
              "    </tr>\n",
              "    <tr>\n",
              "      <th>50%</th>\n",
              "      <td>51.000000</td>\n",
              "    </tr>\n",
              "    <tr>\n",
              "      <th>75%</th>\n",
              "      <td>78.000000</td>\n",
              "    </tr>\n",
              "    <tr>\n",
              "      <th>max</th>\n",
              "      <td>99.000000</td>\n",
              "    </tr>\n",
              "  </tbody>\n",
              "</table>\n",
              "</div>\n",
              "    <div class=\"colab-df-buttons\">\n",
              "\n",
              "  <div class=\"colab-df-container\">\n",
              "    <button class=\"colab-df-convert\" onclick=\"convertToInteractive('df-828fbdb7-770f-42b1-8bd4-e03a2f505732')\"\n",
              "            title=\"Convert this dataframe to an interactive table.\"\n",
              "            style=\"display:none;\">\n",
              "\n",
              "  <svg xmlns=\"http://www.w3.org/2000/svg\" height=\"24px\" viewBox=\"0 -960 960 960\">\n",
              "    <path d=\"M120-120v-720h720v720H120Zm60-500h600v-160H180v160Zm220 220h160v-160H400v160Zm0 220h160v-160H400v160ZM180-400h160v-160H180v160Zm440 0h160v-160H620v160ZM180-180h160v-160H180v160Zm440 0h160v-160H620v160Z\"/>\n",
              "  </svg>\n",
              "    </button>\n",
              "\n",
              "  <style>\n",
              "    .colab-df-container {\n",
              "      display:flex;\n",
              "      gap: 12px;\n",
              "    }\n",
              "\n",
              "    .colab-df-convert {\n",
              "      background-color: #E8F0FE;\n",
              "      border: none;\n",
              "      border-radius: 50%;\n",
              "      cursor: pointer;\n",
              "      display: none;\n",
              "      fill: #1967D2;\n",
              "      height: 32px;\n",
              "      padding: 0 0 0 0;\n",
              "      width: 32px;\n",
              "    }\n",
              "\n",
              "    .colab-df-convert:hover {\n",
              "      background-color: #E2EBFA;\n",
              "      box-shadow: 0px 1px 2px rgba(60, 64, 67, 0.3), 0px 1px 3px 1px rgba(60, 64, 67, 0.15);\n",
              "      fill: #174EA6;\n",
              "    }\n",
              "\n",
              "    .colab-df-buttons div {\n",
              "      margin-bottom: 4px;\n",
              "    }\n",
              "\n",
              "    [theme=dark] .colab-df-convert {\n",
              "      background-color: #3B4455;\n",
              "      fill: #D2E3FC;\n",
              "    }\n",
              "\n",
              "    [theme=dark] .colab-df-convert:hover {\n",
              "      background-color: #434B5C;\n",
              "      box-shadow: 0px 1px 3px 1px rgba(0, 0, 0, 0.15);\n",
              "      filter: drop-shadow(0px 1px 2px rgba(0, 0, 0, 0.3));\n",
              "      fill: #FFFFFF;\n",
              "    }\n",
              "  </style>\n",
              "\n",
              "    <script>\n",
              "      const buttonEl =\n",
              "        document.querySelector('#df-828fbdb7-770f-42b1-8bd4-e03a2f505732 button.colab-df-convert');\n",
              "      buttonEl.style.display =\n",
              "        google.colab.kernel.accessAllowed ? 'block' : 'none';\n",
              "\n",
              "      async function convertToInteractive(key) {\n",
              "        const element = document.querySelector('#df-828fbdb7-770f-42b1-8bd4-e03a2f505732');\n",
              "        const dataTable =\n",
              "          await google.colab.kernel.invokeFunction('convertToInteractive',\n",
              "                                                    [key], {});\n",
              "        if (!dataTable) return;\n",
              "\n",
              "        const docLinkHtml = 'Like what you see? Visit the ' +\n",
              "          '<a target=\"_blank\" href=https://colab.research.google.com/notebooks/data_table.ipynb>data table notebook</a>'\n",
              "          + ' to learn more about interactive tables.';\n",
              "        element.innerHTML = '';\n",
              "        dataTable['output_type'] = 'display_data';\n",
              "        await google.colab.output.renderOutput(dataTable, element);\n",
              "        const docLink = document.createElement('div');\n",
              "        docLink.innerHTML = docLinkHtml;\n",
              "        element.appendChild(docLink);\n",
              "      }\n",
              "    </script>\n",
              "  </div>\n",
              "\n",
              "\n",
              "    <div id=\"df-61aff962-1fa5-49db-93df-cba0ac27f596\">\n",
              "      <button class=\"colab-df-quickchart\" onclick=\"quickchart('df-61aff962-1fa5-49db-93df-cba0ac27f596')\"\n",
              "                title=\"Suggest charts\"\n",
              "                style=\"display:none;\">\n",
              "\n",
              "<svg xmlns=\"http://www.w3.org/2000/svg\" height=\"24px\"viewBox=\"0 0 24 24\"\n",
              "     width=\"24px\">\n",
              "    <g>\n",
              "        <path d=\"M19 3H5c-1.1 0-2 .9-2 2v14c0 1.1.9 2 2 2h14c1.1 0 2-.9 2-2V5c0-1.1-.9-2-2-2zM9 17H7v-7h2v7zm4 0h-2V7h2v10zm4 0h-2v-4h2v4z\"/>\n",
              "    </g>\n",
              "</svg>\n",
              "      </button>\n",
              "\n",
              "<style>\n",
              "  .colab-df-quickchart {\n",
              "      --bg-color: #E8F0FE;\n",
              "      --fill-color: #1967D2;\n",
              "      --hover-bg-color: #E2EBFA;\n",
              "      --hover-fill-color: #174EA6;\n",
              "      --disabled-fill-color: #AAA;\n",
              "      --disabled-bg-color: #DDD;\n",
              "  }\n",
              "\n",
              "  [theme=dark] .colab-df-quickchart {\n",
              "      --bg-color: #3B4455;\n",
              "      --fill-color: #D2E3FC;\n",
              "      --hover-bg-color: #434B5C;\n",
              "      --hover-fill-color: #FFFFFF;\n",
              "      --disabled-bg-color: #3B4455;\n",
              "      --disabled-fill-color: #666;\n",
              "  }\n",
              "\n",
              "  .colab-df-quickchart {\n",
              "    background-color: var(--bg-color);\n",
              "    border: none;\n",
              "    border-radius: 50%;\n",
              "    cursor: pointer;\n",
              "    display: none;\n",
              "    fill: var(--fill-color);\n",
              "    height: 32px;\n",
              "    padding: 0;\n",
              "    width: 32px;\n",
              "  }\n",
              "\n",
              "  .colab-df-quickchart:hover {\n",
              "    background-color: var(--hover-bg-color);\n",
              "    box-shadow: 0 1px 2px rgba(60, 64, 67, 0.3), 0 1px 3px 1px rgba(60, 64, 67, 0.15);\n",
              "    fill: var(--button-hover-fill-color);\n",
              "  }\n",
              "\n",
              "  .colab-df-quickchart-complete:disabled,\n",
              "  .colab-df-quickchart-complete:disabled:hover {\n",
              "    background-color: var(--disabled-bg-color);\n",
              "    fill: var(--disabled-fill-color);\n",
              "    box-shadow: none;\n",
              "  }\n",
              "\n",
              "  .colab-df-spinner {\n",
              "    border: 2px solid var(--fill-color);\n",
              "    border-color: transparent;\n",
              "    border-bottom-color: var(--fill-color);\n",
              "    animation:\n",
              "      spin 1s steps(1) infinite;\n",
              "  }\n",
              "\n",
              "  @keyframes spin {\n",
              "    0% {\n",
              "      border-color: transparent;\n",
              "      border-bottom-color: var(--fill-color);\n",
              "      border-left-color: var(--fill-color);\n",
              "    }\n",
              "    20% {\n",
              "      border-color: transparent;\n",
              "      border-left-color: var(--fill-color);\n",
              "      border-top-color: var(--fill-color);\n",
              "    }\n",
              "    30% {\n",
              "      border-color: transparent;\n",
              "      border-left-color: var(--fill-color);\n",
              "      border-top-color: var(--fill-color);\n",
              "      border-right-color: var(--fill-color);\n",
              "    }\n",
              "    40% {\n",
              "      border-color: transparent;\n",
              "      border-right-color: var(--fill-color);\n",
              "      border-top-color: var(--fill-color);\n",
              "    }\n",
              "    60% {\n",
              "      border-color: transparent;\n",
              "      border-right-color: var(--fill-color);\n",
              "    }\n",
              "    80% {\n",
              "      border-color: transparent;\n",
              "      border-right-color: var(--fill-color);\n",
              "      border-bottom-color: var(--fill-color);\n",
              "    }\n",
              "    90% {\n",
              "      border-color: transparent;\n",
              "      border-bottom-color: var(--fill-color);\n",
              "    }\n",
              "  }\n",
              "</style>\n",
              "\n",
              "      <script>\n",
              "        async function quickchart(key) {\n",
              "          const quickchartButtonEl =\n",
              "            document.querySelector('#' + key + ' button');\n",
              "          quickchartButtonEl.disabled = true;  // To prevent multiple clicks.\n",
              "          quickchartButtonEl.classList.add('colab-df-spinner');\n",
              "          try {\n",
              "            const charts = await google.colab.kernel.invokeFunction(\n",
              "                'suggestCharts', [key], {});\n",
              "          } catch (error) {\n",
              "            console.error('Error during call to suggestCharts:', error);\n",
              "          }\n",
              "          quickchartButtonEl.classList.remove('colab-df-spinner');\n",
              "          quickchartButtonEl.classList.add('colab-df-quickchart-complete');\n",
              "        }\n",
              "        (() => {\n",
              "          let quickchartButtonEl =\n",
              "            document.querySelector('#df-61aff962-1fa5-49db-93df-cba0ac27f596 button');\n",
              "          quickchartButtonEl.style.display =\n",
              "            google.colab.kernel.accessAllowed ? 'block' : 'none';\n",
              "        })();\n",
              "      </script>\n",
              "    </div>\n",
              "\n",
              "  <div id=\"id_89360157-d7f5-4f02-889b-0750433da754\">\n",
              "    <style>\n",
              "      .colab-df-generate {\n",
              "        background-color: #E8F0FE;\n",
              "        border: none;\n",
              "        border-radius: 50%;\n",
              "        cursor: pointer;\n",
              "        display: none;\n",
              "        fill: #1967D2;\n",
              "        height: 32px;\n",
              "        padding: 0 0 0 0;\n",
              "        width: 32px;\n",
              "      }\n",
              "\n",
              "      .colab-df-generate:hover {\n",
              "        background-color: #E2EBFA;\n",
              "        box-shadow: 0px 1px 2px rgba(60, 64, 67, 0.3), 0px 1px 3px 1px rgba(60, 64, 67, 0.15);\n",
              "        fill: #174EA6;\n",
              "      }\n",
              "\n",
              "      [theme=dark] .colab-df-generate {\n",
              "        background-color: #3B4455;\n",
              "        fill: #D2E3FC;\n",
              "      }\n",
              "\n",
              "      [theme=dark] .colab-df-generate:hover {\n",
              "        background-color: #434B5C;\n",
              "        box-shadow: 0px 1px 3px 1px rgba(0, 0, 0, 0.15);\n",
              "        filter: drop-shadow(0px 1px 2px rgba(0, 0, 0, 0.3));\n",
              "        fill: #FFFFFF;\n",
              "      }\n",
              "    </style>\n",
              "    <button class=\"colab-df-generate\" onclick=\"generateWithVariable('desc_stats')\"\n",
              "            title=\"Generate code using this dataframe.\"\n",
              "            style=\"display:none;\">\n",
              "\n",
              "  <svg xmlns=\"http://www.w3.org/2000/svg\" height=\"24px\"viewBox=\"0 0 24 24\"\n",
              "       width=\"24px\">\n",
              "    <path d=\"M7,19H8.4L18.45,9,17,7.55,7,17.6ZM5,21V16.75L18.45,3.32a2,2,0,0,1,2.83,0l1.4,1.43a1.91,1.91,0,0,1,.58,1.4,1.91,1.91,0,0,1-.58,1.4L9.25,21ZM18.45,9,17,7.55Zm-12,3A5.31,5.31,0,0,0,4.9,8.1,5.31,5.31,0,0,0,1,6.5,5.31,5.31,0,0,0,4.9,4.9,5.31,5.31,0,0,0,6.5,1,5.31,5.31,0,0,0,8.1,4.9,5.31,5.31,0,0,0,12,6.5,5.46,5.46,0,0,0,6.5,12Z\"/>\n",
              "  </svg>\n",
              "    </button>\n",
              "    <script>\n",
              "      (() => {\n",
              "      const buttonEl =\n",
              "        document.querySelector('#id_89360157-d7f5-4f02-889b-0750433da754 button.colab-df-generate');\n",
              "      buttonEl.style.display =\n",
              "        google.colab.kernel.accessAllowed ? 'block' : 'none';\n",
              "\n",
              "      buttonEl.onclick = () => {\n",
              "        google.colab.notebook.generateWithVariable('desc_stats');\n",
              "      }\n",
              "      })();\n",
              "    </script>\n",
              "  </div>\n",
              "\n",
              "    </div>\n",
              "  </div>\n"
            ],
            "application/vnd.google.colaboratory.intrinsic+json": {
              "type": "dataframe",
              "variable_name": "desc_stats",
              "summary": "{\n  \"name\": \"desc_stats\",\n  \"rows\": 8,\n  \"fields\": [\n    {\n      \"column\": \"Values\",\n      \"properties\": {\n        \"dtype\": \"number\",\n        \"std\": 32.102665424204865,\n        \"min\": 16.0,\n        \"max\": 100.0,\n        \"num_unique_values\": 8,\n        \"samples\": [\n          56.29,\n          51.0,\n          100.0\n        ],\n        \"semantic_type\": \"\",\n        \"description\": \"\"\n      }\n    }\n  ]\n}"
            }
          },
          "metadata": {},
          "execution_count": 45
        }
      ]
    },
    {
      "cell_type": "code",
      "execution_count": 48,
      "metadata": {
        "colab": {
          "base_uri": "https://localhost:8080/",
          "height": 452
        },
        "id": "w67yenX0-GAN",
        "outputId": "5bd152fb-15e3-4ab9-ba28-9391fd6c8c68"
      },
      "outputs": [
        {
          "output_type": "display_data",
          "data": {
            "text/plain": [
              "<Figure size 640x480 with 1 Axes>"
            ],
            "image/png": "[encoded data removed]"
          },
          "metadata": {}
        }
      ],
      "source": [
        "#Ans- 16:-\n",
        "import seaborn as sns\n",
        "import matplotlib.pyplot as plt\n",
        "import numpy as np\n",
        "\n",
        "data = np.random.normal(50, 10, 100)\n",
        "outliers = [100, 110, 120]\n",
        "data_with_outliers = np.concatenate((data, outliers))\n",
        "\n",
        "sns.boxplot(x=data_with_outliers)\n",
        "plt.title('Boxplot')\n",
        "plt.show()"
      ]
    },
    {
      "cell_type": "code",
      "execution_count": 53,
      "metadata": {
        "colab": {
          "base_uri": "https://localhost:8080/"
        },
        "id": "UpUpksVh-GGm",
        "outputId": "22d0d797-a22f-4960-841a-e19c44b050bf"
      },
      "outputs": [
        {
          "output_type": "execute_result",
          "data": {
            "text/plain": [
              "np.float64(6.75)"
            ]
          },
          "metadata": {},
          "execution_count": 53
        }
      ],
      "source": [
        "#Ans- 17:-\n",
        "import numpy as np\n",
        "import pandas as pd\n",
        "\n",
        "data = [10, 15, 14, 18, 21, 25, 30, 22, 20, 19, 24, 16]\n",
        "\n",
        "Q1 = np.percentile(data, 25)\n",
        "Q3= np.percentile(data, 75)\n",
        "IQR = Q3 - Q1\n",
        "IQR"
      ]
    },
    {
      "cell_type": "code",
      "execution_count": 56,
      "metadata": {
        "colab": {
          "base_uri": "https://localhost:8080/"
        },
        "id": "S4RJk--m-GN8",
        "outputId": "b038e528-c4e3-4dc4-f856-cd52f7367cfa"
      },
      "outputs": [
        {
          "output_type": "stream",
          "name": "stdout",
          "text": [
            "[10, 15, 14, 18, 21, 25, 30]\n",
            "[-1.41296811 -0.62798583 -0.78498228 -0.15699646  0.31399291  0.94197874\n",
            "  1.72696102]\n"
          ]
        }
      ],
      "source": [
        "#Ans- 18:-\n",
        "import numpy as np\n",
        "import pandas as pd\n",
        "\n",
        "data = [10, 15, 14, 18, 21, 25, 30]\n",
        "\n",
        "mean = np.mean(data)\n",
        "std = np.std(data)\n",
        "\n",
        "z_scores = (data - mean) / std\n",
        "\n",
        "print(data)\n",
        "print(z_scores)\n"
      ]
    },
    {
      "cell_type": "code",
      "execution_count": 57,
      "metadata": {
        "colab": {
          "base_uri": "https://localhost:8080/"
        },
        "id": "K5r_UVOI-GVD",
        "outputId": "ede9280e-c779-432f-cf76-7f4960ae7190"
      },
      "outputs": [
        {
          "output_type": "stream",
          "name": "stdout",
          "text": [
            "Data2 has more variability.\n"
          ]
        }
      ],
      "source": [
        "#Ans- 19:-\n",
        "import numpy as np\n",
        "\n",
        "data1 = [10, 12, 14, 15, 18, 20, 22]\n",
        "\n",
        "data2 = [5, 15, 25, 35, 45, 55, 65]\n",
        "\n",
        "std1 = np.std(data1, ddof=1)\n",
        "std2 = np.std(data2, ddof=1)\n",
        "\n",
        "if std1 > std2:\n",
        "    print(\"Data1 has more variability.\")\n",
        "elif std1 < std2:\n",
        "    print(\"Data2 has more variability.\")\n",
        "else:\n",
        "    print(\"Both data have the same variability.\")\n"
      ]
    },
    {
      "cell_type": "code",
      "execution_count": 59,
      "metadata": {
        "colab": {
          "base_uri": "https://localhost:8080/",
          "height": 468
        },
        "id": "Li4wKciz-Gbh",
        "outputId": "610e0cd0-9388-421f-927c-210ee80d2e10"
      },
      "outputs": [
        {
          "output_type": "display_data",
          "data": {
            "text/plain": [
              "<Figure size 600x500 with 2 Axes>"
            ],
            "image/png": "[encoded data removed]"
          },
          "metadata": {}
        }
      ],
      "source": [
        "#Ans- 20:-\n",
        "import numpy as np\n",
        "import pandas as pd\n",
        "import seaborn as sns\n",
        "import matplotlib.pyplot as plt\n",
        "\n",
        "np.random.seed(0)\n",
        "data = pd.DataFrame({\n",
        "    'X': np.random.normal(0, 1, 100),\n",
        "    'Y': np.random.normal(5, 2, 100),\n",
        "    'Z': np.random.normal(-3, 5, 100)\n",
        "})\n",
        "\n",
        "cov_matrix = data.cov()\n",
        "\n",
        "plt.figure(figsize=(6, 5))\n",
        "sns.heatmap(cov_matrix, annot=True, cmap='coolwarm', center=0)\n",
        "plt.title('Matrix Heatmap')\n",
        "plt.show()\n"
      ]
    },
    {
      "cell_type": "code",
      "execution_count": 60,
      "metadata": {
        "colab": {
          "base_uri": "https://localhost:8080/",
          "height": 545
        },
        "id": "wwKzkcB2-GjX",
        "outputId": "7b099ce2-7fad-4e65-c950-42c7a960b137"
      },
      "outputs": [
        {
          "output_type": "display_data",
          "data": {
            "text/plain": [
              "<Figure size 800x600 with 2 Axes>"
            ],
            "image/png": "[encoded data removed]"
          },
          "metadata": {}
        }
      ],
      "source": [
        "#Ans- 21:-\n",
        "np.random.seed(42)\n",
        "data = pd.DataFrame({\n",
        "    'A': np.random.normal(0, 1, 100),\n",
        "    'B': np.random.normal(5, 2, 100),\n",
        "    'C': np.random.normal(-3, 5, 100),\n",
        "    'D': np.random.normal(10, 3, 100)\n",
        "})\n",
        "\n",
        "corr_matrix = data.corr()\n",
        "\n",
        "plt.figure(figsize=(8, 6))\n",
        "sns.heatmap(corr_matrix, annot=True, cmap='coolwarm', center=0)\n",
        "plt.title('Matrix Heatmap')\n",
        "plt.show()\n"
      ]
    },
    {
      "cell_type": "code",
      "execution_count": 64,
      "metadata": {
        "id": "-HJp0n---Gqf"
      },
      "outputs": [],
      "source": [
        "#Ans- 22:-\n",
        "import numpy as np\n",
        "import pandas as pd"
      ]
    }
  ]
}