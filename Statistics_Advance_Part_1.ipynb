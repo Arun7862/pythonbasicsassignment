{
  "nbformat": 4,
  "nbformat_minor": 0,
  "metadata": {
    "colab": {
      "provenance": []
    },
    "kernelspec": {
      "name": "python3",
      "display_name": "Python 3"
    },
    "language_info": {
      "name": "python"
    }
  },
  "cells": [
    {
      "cell_type": "markdown",
      "source": [
        "#  Statistics Advance Part 1 Assignement\n"
      ],
      "metadata": {
        "id": "QQQ5x9mjA3-9"
      }
    },
    {
      "cell_type": "markdown",
      "source": [
        "Ans:-1-   A random variable is a function that maps the outcomes of a random experiment to a set of real numbers.\n",
        "\n",
        "\n",
        "Ans:-2-  Random variables are two main types: discrete and continuous.\n",
        "\n",
        "\n",
        "Ans:-3-  Discrete distributions deal with countable values, while continuous distributions deal with values that can fall within a range.\n",
        "\n",
        "\n",
        "\n",
        "Ans:-4-  A Probability Density Function (PDF) describes the likelihood of a continuous random variable taking on a specific value\n",
        "\n",
        "\n",
        "Ans:-5-  The PDF describes the probability of a continuous random variable taking on a specific value, while the CDF provides the probability that a random variable is less than or equal to a certain value.\n",
        "\n",
        "\n",
        "Ans:-6-  Discrete uniform distribution is a type of probability distribution where each outcome has an equal probability of occurring, and the possible outcomes are finite and discrete\n",
        "\n",
        "\n",
        "Ans:-7- The Bernoulli distribution is a discrete probability distribution with two possible outcomes, success (usually 1) and failure (usually 0).\n",
        "\n",
        "\n",
        "Ans:-8-  The binomial distribution is a probability distribution that models the probability of a certain number of successes in a fixed number of independent trials, where each trial has only two possible outcomes (success or failure) and a constant probability of success like toss coin.\n",
        "\n",
        "\n",
        "Ans:-9-  The Poisson distribution is a discrete probability distribution used to model the probability of a certain number of events occurring within a fixed interval of time or space, given a known average rate.\n",
        "\n",
        "\n",
        "Ans:-10-  A continuous uniform distribution is a probability distribution where all outcomes within a specified range are equally likely to occur\n",
        "\n",
        "\n",
        "Ans:-11-  A normal distribution, also known as a Gaussian distribution or bell curve, is characterized by a symmetric, bell-shaped curve, with the mean, median, and mode all equal and located at the center\n",
        "\n",
        "\n",
        "Ans:-12-  The standard normal distribution is a specific normal distribution with a mean of 0 and a standard deviation of 1.\n",
        "\n",
        "\n",
        "Ans:-13-  The Central Limit Theorem (CLT) states that the distribution of sample means will approximate a normal distribution as the sample size increases, regardless of the original population distribution. This theorem is crucial in statistics because it allows us to apply many statistical methods that rely on the normal distribution, even when the underlying data is not normally distributed.\n",
        "\n",
        "\n",
        "Ans:-14-  The Central Limit Theorem (CLT) establishes a fundamental relationship between sample means and the normal distribution. It states that as the sample size increases, the distribution of sample means will approximate a normal distribution, regardless of the original population's distribution.\n",
        "\n",
        "\n",
        "Ans:-15-  The z-statistic is a key component of hypothesis testing, used to determine if a sample mean is significantly different from a population mean when the population standard deviation is known or the sample size is large (n ≥ 30).\n",
        "\n",
        "\n",
        "Ans:-16-  A z-score calculates how many standard deviations a data point is above or below the mean (average) of a dataset.\n",
        "\n",
        "\n",
        "Ans:-17-  In statistics, point estimates offer a single value as the best guess for a population parameter, while interval estimates provide a range of values that are likely to contain the true population parameter with a certain level of confidence.\n",
        "\n",
        "\n",
        "Ans:-18-  Confidence intervals are crucial in statistical analysis as they provide a range of plausible values for an unknown population parameter, based on sample data, along with a degree of confidence in that estimate.\n",
        "\n",
        "\n",
        "Ans:-19-  A z-score directly influences the calculation and width of a confidence interval. The z-score, representing the number of standard deviations away from the mean, is used to define the margin of error when constructing a confidence interval\n",
        "\n",
        "\n",
        "Ans:-20-  Z-scores are used to compare different distributions by standardizing data, meaning they transform data points to a common scale based on the mean and standard deviation of each distribution.\n",
        "\n",
        "\n",
        "Ans:-21-  The Central Limit Theorem (CLT) has a few key assumptions to ensure its validity in practical applications. Primarily, the samples should be drawn independently and randomly from the population, and the sample size needs to be sufficiently large.\n",
        "\n",
        "\n",
        "Ans:-22-   In a probability distribution, the expected value, also known as the mean or average, is a weighted average of all possible values of a random variable.\n",
        "\n",
        "\n",
        "Ans:-23-  A probability distribution describes how probabilities are allocated to the possible values of a random variable. The expected value of a random variable is calculated by weighting each possible outcome by its probability, as defined by the probability distribution, and then summing these weighted outcomes."
      ],
      "metadata": {
        "id": "JBUtOZiIA9_N"
      }
    },
    {
      "cell_type": "code",
      "execution_count": null,
      "metadata": {
        "id": "jOs7Qx-TA0pK"
      },
      "outputs": [],
      "source": []
    }
  ]
}