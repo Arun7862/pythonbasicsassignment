{
  "nbformat": 4,
  "nbformat_minor": 0,
  "metadata": {
    "colab": {
      "provenance": []
    },
    "kernelspec": {
      "name": "python3",
      "display_name": "Python 3"
    },
    "language_info": {
      "name": "python"
    }
  },
  "cells": [
    {
      "cell_type": "markdown",
      "source": [
        "\n",
        "\n",
        "*   Ans.1: Compiled languages translate the entire program into machine code before execution, while interpreted languages translate the code line by line during execution\n",
        "\n",
        "*   Ans.2: Exceptions prevents the program from crashing and allows it to continue running or terminate in a controlled manner. Python uses try, except, else, and finally blocks to handle exceptions.\n",
        "\n",
        "*   Ans.3: The purpose of the finally block in exception handling is to ensure that a specific block of code is always executed.\n",
        "\n",
        "*   Ans.4: Logging in Python refers to the process of recording messages and events that occur during the execution of a program.\n",
        "\n",
        "*   Ans.5: The __del__ method is called automatically when an object is about to be destroyed. Basically, when Python deletes the object because it's no longer needed.\n",
        "\n",
        "*   Ans.6: In Python, import and from ... import are both used to access code from external modules, but they differ in how they make the code\n",
        "\n",
        "*   Ans.7: In Python, multiple exceptions can be handled using several approaches like, Using a tuple of exceptions, Using exception groups, etc.\n",
        "\n",
        "\n",
        "*   Ans.8: The with statement in Python serves to streamline resource management, particularly in file handling.\n",
        "\n",
        "*   Ans.9: Multithreading creates multiple threads within a single process, allowing for concurrent execution within that process, while multiprocessing creates multiple processes, each with its own resources, enabling parallel execution across multiple processors.\n",
        "\n",
        "*   Ans.10: Logging offers lots of advantages, including improved debugging, easier troubleshooting, enhanced system observability, and better communication between developers and administrators.\n",
        "\n",
        "*   Ans.11: Memory management in Python is the process of allocating and freeing memory blocks for data objects.\n",
        "\n",
        "*   Ans.12: Exception handling in Python involves anticipating, detecting, and resolving errors that may occur during the execution of a program. The basic steps involved are:\n",
        "\n",
        "    **try**\n",
        "    \n",
        "    **except**\n",
        "    \n",
        "    **else**\n",
        "\n",
        "    **finally**\n",
        "\n",
        "*   Ans.13: Memory management is directly impacts the performance, stability, and efficiency of applications.\n",
        "\n",
        "*   Ans.14: The try block contains the code that might potentially raise an exception, and the except block contains the code that will be executed if an exception is raised within the try block.\n",
        "\n",
        "*   Ans.15: Python uses a hybrid approach to garbage collection: reference counting and generational garbage collection.\n",
        "\n",
        "*   Ans.16: The else block allows you to execute specific code when the try block's operations are successful and no errors occur.\n",
        "\n",
        "*   Ans.17: Python's logging module provides a standard way to output messages during the execution of a program.\n",
        "\n",
        "*   Ans.18: os.fork() creates a new process by duplicating the existing one. The new process, called the child process, is an exact copy of the parent process,\n",
        "\n",
        "*   Ans.19: Closing files in Python is an essential practice that helps maintain data integrity, prevent resource leaks, and ensure the reliability of your applications.\n",
        "\n",
        "*   Ans.20: file.read(): This method reads the entire content of the file as a single string. If a size argument is specified (e.g., file.read(10))\n",
        "    file.readline(): This method reads a single line from the file, including the newline character at the end.\n",
        "\n",
        "*   Ans.21: The logging module in Python is used for recording events and debugging issues during application execution.\n",
        "\n",
        "*   Ans.22: Python has a built-in os module with methods for interacting with the operating system, like creating files and directories, management of files and directories, input, output, environment variables, process management, etc.\n",
        "\n",
        "\n",
        "*   Ans.23:\n",
        "\n",
        "*   Ans.24: In Python, the raise statement facilitates the manual raising of exceptions. It disrupts the normal flow of the program and transfers control to an exception handler.\n",
        "\n",
        "*  Ans.25: Multithreading is important in applications that benefit from concurrent execution of tasks, improved responsiveness, and efficient resource utilization.\n",
        "\n",
        "\n",
        "\n"
      ],
      "metadata": {
        "id": "IFrs8rsSA91p"
      }
    },
    {
      "cell_type": "markdown",
      "source": [
        "# Practical Answers"
      ],
      "metadata": {
        "id": "micC-0d6T_66"
      }
    },
    {
      "cell_type": "code",
      "execution_count": 3,
      "metadata": {
        "id": "MSH10mkN-dw-"
      },
      "outputs": [],
      "source": [
        "#Ans.1:\n",
        "file = open(\"my_file.txt\", \"w\")\n",
        "\n",
        "file.write(\"Hello, this is my first time writing to a file!\")\n",
        "\n",
        "file.close()"
      ]
    },
    {
      "cell_type": "code",
      "source": [
        "#Ans.2:\n",
        "file = open(\"my_file.txt\", \"r\")\n",
        "\n",
        "for line in file:\n",
        "    print(line)\n",
        "\n",
        "file.close()"
      ],
      "metadata": {
        "colab": {
          "base_uri": "https://localhost:8080/"
        },
        "id": "Stn9Yggi2c3t",
        "outputId": "1a14a860-56a5-44c9-90c3-f501a5a3e442"
      },
      "execution_count": 8,
      "outputs": [
        {
          "output_type": "stream",
          "name": "stdout",
          "text": [
            "Hello, this is my first time writing to a file!\n"
          ]
        }
      ]
    },
    {
      "cell_type": "code",
      "source": [
        "#Ans.3:\n",
        "file1 = \"file.txt\"\n",
        "\n",
        "try:\n",
        "  with open(file1, \"r\") as file:\n",
        "    for i in file:\n",
        "      print(i, end=\"\")\n",
        "except FileNotFoundError:\n",
        "  print(\"file1 does not exits\")"
      ],
      "metadata": {
        "colab": {
          "base_uri": "https://localhost:8080/"
        },
        "id": "8JA_QF9g2fZi",
        "outputId": "f43de541-1f62-4200-ecf8-62f2fabf0185"
      },
      "execution_count": 25,
      "outputs": [
        {
          "output_type": "stream",
          "name": "stdout",
          "text": [
            "file1 does not exits\n"
          ]
        }
      ]
    },
    {
      "cell_type": "code",
      "source": [
        "#Ans.4:\n",
        "file = open(\"missing_file.txt\", \"r\")\n"
      ],
      "metadata": {
        "colab": {
          "base_uri": "https://localhost:8080/",
          "height": 165
        },
        "id": "Dcj1ngrH2fg-",
        "outputId": "64f798c0-88c5-4f8c-e3f5-947c1ac6bd3e"
      },
      "execution_count": 26,
      "outputs": [
        {
          "output_type": "error",
          "ename": "FileNotFoundError",
          "evalue": "[Errno 2] No such file or directory: 'missing_file.txt'",
          "traceback": [
            "\u001b[0;31m---------------------------------------------------------------------------\u001b[0m",
            "\u001b[0;31mFileNotFoundError\u001b[0m                         Traceback (most recent call last)",
            "\u001b[0;32m<ipython-input-26-b0b30ff8e007>\u001b[0m in \u001b[0;36m<cell line: 0>\u001b[0;34m()\u001b[0m\n\u001b[1;32m      1\u001b[0m \u001b[0;31m#Ans.4:\u001b[0m\u001b[0;34m\u001b[0m\u001b[0;34m\u001b[0m\u001b[0m\n\u001b[0;32m----> 2\u001b[0;31m \u001b[0mfile\u001b[0m \u001b[0;34m=\u001b[0m \u001b[0mopen\u001b[0m\u001b[0;34m(\u001b[0m\u001b[0;34m\"missing_file.txt\"\u001b[0m\u001b[0;34m,\u001b[0m \u001b[0;34m\"r\"\u001b[0m\u001b[0;34m)\u001b[0m\u001b[0;34m\u001b[0m\u001b[0;34m\u001b[0m\u001b[0m\n\u001b[0m",
            "\u001b[0;31mFileNotFoundError\u001b[0m: [Errno 2] No such file or directory: 'missing_file.txt'"
          ]
        }
      ]
    },
    {
      "cell_type": "code",
      "source": [
        "#Ans.5:\n",
        "a = 10\n",
        "b = 0\n",
        "\n",
        "try:\n",
        "    result = a / b\n",
        "    print(\"Result:\", result)\n",
        "except ZeroDivisionError:\n",
        "    print(\"Cannot divide by zero! Please enter a different number.\")\n"
      ],
      "metadata": {
        "colab": {
          "base_uri": "https://localhost:8080/"
        },
        "id": "MyVbt2hz2fmc",
        "outputId": "abadf3ad-785a-4197-a122-20d14245f8c1"
      },
      "execution_count": 27,
      "outputs": [
        {
          "output_type": "stream",
          "name": "stdout",
          "text": [
            "Cannot divide by zero! Please enter a different number.\n"
          ]
        }
      ]
    },
    {
      "cell_type": "code",
      "source": [
        "#Ans.6:\n",
        "x = 50\n",
        "y = 0\n",
        "\n",
        "try:\n",
        "    result = x / y\n",
        "    print(\"Result:\", result)\n",
        "except ZeroDivisionError as e:\n",
        "    with open(\"error_log.txt\", \"x\") as log_file:\n",
        "        log_file.write(f\"Error occurred: {e}\\n\")\n",
        "    print(\"An error occurred. Check 'error_log.txt' for details.\")"
      ],
      "metadata": {
        "colab": {
          "base_uri": "https://localhost:8080/"
        },
        "id": "H-OHcFVG2frZ",
        "outputId": "d589cc22-4ee4-405f-9fd3-d1a739661d9f"
      },
      "execution_count": 28,
      "outputs": [
        {
          "output_type": "stream",
          "name": "stdout",
          "text": [
            "An error occurred. Check 'error_log.txt' for details.\n"
          ]
        }
      ]
    },
    {
      "cell_type": "code",
      "source": [
        "#Ans7:\n"
      ],
      "metadata": {
        "id": "7vK4-BzB2fvc"
      },
      "execution_count": null,
      "outputs": []
    },
    {
      "cell_type": "code",
      "source": [
        "#Ans.8:\n",
        "f = \"python_file.txt\"\n",
        "\n",
        "try:\n",
        "    with open(f, \"r\") as file:\n",
        "        content = file.read()\n",
        "        print(\"File content:\\n\", content)\n",
        "except FileNotFoundError:\n",
        "    print(\"Error: The file was not found.\")\n",
        "except IOError:\n",
        "    print(f\"Error: Could not read the file.\")\n"
      ],
      "metadata": {
        "colab": {
          "base_uri": "https://localhost:8080/"
        },
        "id": "72JWQaS22fzr",
        "outputId": "8379cb31-4a7d-45a4-a856-b208fa864b47"
      },
      "execution_count": 32,
      "outputs": [
        {
          "output_type": "stream",
          "name": "stdout",
          "text": [
            "Error: The file was not found.\n"
          ]
        }
      ]
    },
    {
      "cell_type": "code",
      "source": [
        "#Ans.9:\n"
      ],
      "metadata": {
        "id": "D1nXQIwr2f3_"
      },
      "execution_count": null,
      "outputs": []
    },
    {
      "cell_type": "code",
      "source": [
        "#Ans.10:\n",
        "filename = \"my_file.txt\"\n",
        "\n",
        "with open(filename, \"a\") as file:\n",
        "    file.write(\"This is a new line added to the file.\\n\")\n",
        "\n",
        "print(\"Data appended successfully!\")"
      ],
      "metadata": {
        "colab": {
          "base_uri": "https://localhost:8080/"
        },
        "id": "3TvUOquN2f7a",
        "outputId": "76940f3a-2065-4d39-dc83-24ef4d93d503"
      },
      "execution_count": 33,
      "outputs": [
        {
          "output_type": "stream",
          "name": "stdout",
          "text": [
            "Data appended successfully!\n"
          ]
        }
      ]
    },
    {
      "cell_type": "code",
      "source": [
        "#Ans.11:\n",
        "my_dict = {\"name\": \"Arun\", \"age\": 25}\n",
        "\n",
        "try:\n",
        "    print(my_dict[\"address\"])\n",
        "except KeyError:\n",
        "    print(\"Error: The key you are trying to access doesn't exist in the dictionary.\")\n"
      ],
      "metadata": {
        "colab": {
          "base_uri": "https://localhost:8080/"
        },
        "id": "ZU_yWFye2f_H",
        "outputId": "058bda76-8e89-45ec-8db3-4712c32df768"
      },
      "execution_count": 34,
      "outputs": [
        {
          "output_type": "stream",
          "name": "stdout",
          "text": [
            "Error: The key you are trying to access doesn't exist in the dictionary.\n"
          ]
        }
      ]
    },
    {
      "cell_type": "code",
      "source": [
        "#Ans.12:\n",
        "try:\n",
        "    x = 10 / 0\n",
        "\n",
        "    my_dict = {\"name\": \"Alice\", \"age\": 25}\n",
        "    print(my_dict[\"address\"])\n",
        "\n",
        "    with open(\"nonexistent_file.txt\", \"r\") as file:\n",
        "        content = file.read()\n",
        "\n",
        "except ZeroDivisionError:\n",
        "    print(\"You cannot divide by zero.\")\n",
        "except KeyError:\n",
        "    print(\"The key you're trying to access doesn't exist.\")\n",
        "except FileNotFoundError:\n",
        "    print(\"The file you are trying to open does not exist.\")\n",
        "except Exception as e:\n",
        "    print(f\"An unexpected error occurred: {e}\")\n"
      ],
      "metadata": {
        "colab": {
          "base_uri": "https://localhost:8080/"
        },
        "id": "dD7eZDwI2gCQ",
        "outputId": "d6644aae-c46c-44ab-9733-6420ed1587a6"
      },
      "execution_count": 36,
      "outputs": [
        {
          "output_type": "stream",
          "name": "stdout",
          "text": [
            "You cannot divide by zero.\n"
          ]
        }
      ]
    }
  ]
}