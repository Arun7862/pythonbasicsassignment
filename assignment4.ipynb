{
  "nbformat": 4,
  "nbformat_minor": 0,
  "metadata": {
    "colab": {
      "provenance": []
    },
    "kernelspec": {
      "name": "python3",
      "display_name": "Python 3"
    },
    "language_info": {
      "name": "python"
    }
  },
  "cells": [
    {
      "cell_type": "markdown",
      "source": [
        "# Python OOPs Questions\n",
        "\n",
        "* Ans.1:- Object oriented programming (OOP) is a programming paradigm centered around the concept of \"objects,\" which can contain both data  and code.\n",
        "\n",
        "* Ans.2:- In OOP, a class is a blueprint or template for creating objects.\n",
        "\n",
        "* Ans.3:- an object is a fundamental unit that encapsulates both data and the functions that operate on that data.\n",
        "\n",
        "* Ans.4:- Abstraction focuses on presenting only the essential features of an object, hiding complex implementation details. Encapsulation, on the other hand, bundles data and the methods that operate on that data, restricting direct access to protect data integrity.\n",
        "\n",
        "* Ans.5:- Dunder methods, also known as magic methods, are special methods in Python that begin and end with double underscores like __init__, __str__.\n",
        "\n",
        "* Ans.6:- A mechanism where a new class, subclass can inherit properties and methods from an existing class (superclass or parent class).\n",
        "\n",
        "* Ans.7:-  polymorphism allows objects of different classes to be treated as objects of a common type, enabling flexible and reusable code.\n",
        "\n",
        "* Ans.8:- Encapsulation in Python is achieved by restricting access to attributes and methods, effectively hiding the internal state of an object and preventing unintended external modifications.\n",
        "\n",
        "* Ans.9:- A constructor in Python is a special method within a class that initializes the attributes of an object when the object is created. It is automatically called when an object of the class is instantiated. The primary purpose of a constructor is to set up the initial state of the object by assigning values to its attributes.\n",
        "\n",
        "\n",
        "* Ans.10:-\n",
        "**Class methods**: Bound to the class and not the instance of the class. They take the class itself as the first argument, conventionally named cls. Class methods can access and modify class-level attributes. They are defined using the @classmethod decorator.\n",
        "\n",
        "* **Static methods**: Not bound to the class or the instance. They don't have access to the self or cls arguments. Static methods are essentially regular functions that are part of the class namespace. They are defined using the @staticmethod decorator.\n",
        "\n",
        "* Ans.11:- Method overloading in Python refers to the ability to define multiple methods within the same class that share a name but have distinct parameter lists.\n",
        "\n",
        "* Ans.12:- Method overriding allows a subclass to provide a specific implementation of a method that is already defined in its superclass.\n",
        "\n",
        "* Ans.13:- A property decorator is a built-in feature that allows methods to be accessed like attributes. It provides a way to encapsulate attribute access and modification with custom logic, such as validation or computation, without changing the way the attribute is accessed from outside the class.\n",
        "\n",
        "* Ans.14:- It enables objects of different classes to be treated as objects of a common type, promoting code reusability, flexibility, and maintainability.\n",
        "\n",
        "* Ans.15:- Abstract class in Python is a class that cannot be instantiated directly and serves as a blueprint for other classes.\n",
        "\n",
        "* Ans.16:- Object Oriented Programming (OOP) offers several advantages, primarily enhancing code organization, reusability, maintainability and flexibility.\n",
        "\n",
        "* Ans.17:- The key difference between a class variable and an instance variable is their scope and how they are shared. Class variables are shared across all instances of a class, meaning they have only one copy regardless of how many objects are created from that class. Instance variables, on the other hand, are unique to each instance of the class, with each object having its own separate copy.\n",
        "\n",
        "* Ans.18:- Multiple inheritance in Python is a feature that allows a class to inherit attributes and methods from more than one parent class.\n",
        "\n",
        "* Ans.19:-\n",
        "\n",
        "* Ans.20:- The super() function in Python is used to call methods from a parent class in a subclass. It returns a proxy object that allows access to the parent class's methods.\n",
        "\n",
        "* Ans.21:- The __del__ method in Python, also known as a destructor, defines actions to be performed when an object is garbage collected. It is called automatically when all references to an object have been deleted, but the exact timing of this call is not guaranteed.\n",
        "\n",
        "* Ans.22:-\n",
        "\n",
        "* The key difference between @staticmethod and @classmethod in Python:\n",
        "@staticmethod:\n",
        "* It is a function that belongs to the class but does not have access to the class itself or its instances.\n",
        "* It does not take self or cls as an argument.\n",
        "* It cannot access or modify class or instance attributes.\n",
        "\n",
        " @classmethod:\n",
        "* It is a method bound to the class, not the instance.\n",
        "* It receives the class itself as the first argument, conventionally named cls.\n",
        "* It can access and modify class-level attributes.\n",
        "\n",
        "* Ans.23:- Polymorphism in Python, in the context of inheritance, enables objects of different classes to respond to the same method call in a way that is specific to their class. This is achieved through method overriding, where a subclass provides its own implementation of a method that is already defined in its parent class.\n",
        "\n",
        "* Ans.24:- Method chaining in Python is a programming technique used in object-oriented programming that allows multiple methods to be called sequentially on the same object in a single line of code.\n",
        "\n",
        "* Ans.25:- The __call__ method in Python enables instances of a class to be called like regular functions. When a class defines the __call__ method, it makes its instances \"callable.\" This means you can apply the function call syntax () to an object of that class, triggering the execution of the code within the __call__ method.\n",
        "\n",
        "\n"
      ],
      "metadata": {
        "id": "uUbWq2XvykTN"
      }
    },
    {
      "cell_type": "markdown",
      "source": [
        "#Practical Questions"
      ],
      "metadata": {
        "id": "dzzlaEujBnxp"
      }
    },
    {
      "cell_type": "code",
      "execution_count": 1,
      "metadata": {
        "id": "pdcLRjOuyL9V"
      },
      "outputs": [],
      "source": [
        "#Ans:-1\n",
        "\n",
        "class animal():\n",
        "  def speak(self):\n",
        "    print(\"animal sounds name\")\n",
        "class dog(animal):\n",
        "  def speak(self):\n",
        "    print(\"bark\")"
      ]
    },
    {
      "cell_type": "code",
      "source": [
        "a= animal()\n",
        "a.speak()"
      ],
      "metadata": {
        "colab": {
          "base_uri": "https://localhost:8080/"
        },
        "id": "EfBN35zzB3Nq",
        "outputId": "4fcde560-cdae-454f-9d86-3b7fcbaf2c14"
      },
      "execution_count": 2,
      "outputs": [
        {
          "output_type": "stream",
          "name": "stdout",
          "text": [
            "animal sounds name\n"
          ]
        }
      ]
    },
    {
      "cell_type": "code",
      "source": [
        "d= dog()\n",
        "d.speak()"
      ],
      "metadata": {
        "colab": {
          "base_uri": "https://localhost:8080/"
        },
        "id": "AKQB4sRGDMVR",
        "outputId": "a27c3319-1ee6-4c5a-a096-6d133b2b082d"
      },
      "execution_count": 3,
      "outputs": [
        {
          "output_type": "stream",
          "name": "stdout",
          "text": [
            "bark\n"
          ]
        }
      ]
    },
    {
      "cell_type": "code",
      "execution_count": 96,
      "metadata": {
        "id": "vkN-tCwoCBQ0"
      },
      "outputs": [],
      "source": [
        "#Ans:-2\n",
        "from abc import ABC, abstractmethod\n",
        "import math\n",
        "\n",
        "# Abstract base class\n",
        "class Shape(ABC):\n",
        "    @abstractmethod\n",
        "    def area(self):\n",
        "        pass\n",
        "\n",
        "# Derived class: Circle\n",
        "class Circle(Shape):\n",
        "    def __init__(self, radius):\n",
        "        self.radius = radius\n",
        "\n",
        "    def area(self):\n",
        "        return math.pi * (self.radius ** 2)\n",
        "\n",
        "# Derived class: Rectangle\n",
        "class Rectangle(Shape):\n",
        "    def __init__(self, length, width):\n",
        "        self.length = length\n",
        "        self.width = width\n",
        "\n",
        "    def area(self):\n",
        "        return self.length * self.width"
      ]
    },
    {
      "cell_type": "code",
      "source": [
        "c = Circle(5)\n",
        "r = Rectangle(4, 6)"
      ],
      "metadata": {
        "id": "QlrJu-o8FVE_"
      },
      "execution_count": 97,
      "outputs": []
    },
    {
      "cell_type": "code",
      "source": [
        "c.area()"
      ],
      "metadata": {
        "colab": {
          "base_uri": "https://localhost:8080/"
        },
        "id": "v7QXBJmMbR55",
        "outputId": "68b75e1e-1c67-46c1-cc71-7a36183e4e6b"
      },
      "execution_count": 98,
      "outputs": [
        {
          "output_type": "execute_result",
          "data": {
            "text/plain": [
              "78.53981633974483"
            ]
          },
          "metadata": {},
          "execution_count": 98
        }
      ]
    },
    {
      "cell_type": "code",
      "source": [
        "r.area()"
      ],
      "metadata": {
        "colab": {
          "base_uri": "https://localhost:8080/"
        },
        "id": "UmJXfirobYRM",
        "outputId": "1a79a391-fdab-4fa0-fd0e-dd8f30d145e6"
      },
      "execution_count": 99,
      "outputs": [
        {
          "output_type": "execute_result",
          "data": {
            "text/plain": [
              "24"
            ]
          },
          "metadata": {},
          "execution_count": 99
        }
      ]
    },
    {
      "cell_type": "code",
      "execution_count": 14,
      "metadata": {
        "id": "jaO8HZ3ICBsa"
      },
      "outputs": [],
      "source": [
        "#Ans:-3\n",
        "\n",
        "# Base class\n",
        "class Vehicle:\n",
        "    def __init__(self, type):\n",
        "        self.type = type\n",
        "\n",
        "    def show_type(self):\n",
        "        print(\"Vehicle type:\", self.type)\n",
        "\n",
        "class Car(Vehicle):\n",
        "    def __init__(self, type, brand):\n",
        "        super().__init__(type)\n",
        "        self.brand = brand\n",
        "\n",
        "    def show_brand(self):\n",
        "        print(\"Car brand:\", self.brand)\n",
        "\n",
        "class ElectricCar(Car):\n",
        "    def __init__(self, type, brand, battery):\n",
        "        super().__init__(type, brand)\n",
        "        self.battery = battery\n",
        "\n",
        "    def show_battery(self):\n",
        "        print(\"Battery capacity:\", self.battery, \"kWh\")\n"
      ]
    },
    {
      "cell_type": "code",
      "source": [
        "my_car = ElectricCar(\"Electric\", \"Tesla\", 75)\n",
        "my_car.show_type()"
      ],
      "metadata": {
        "colab": {
          "base_uri": "https://localhost:8080/"
        },
        "id": "9lXBbEYPIt9E",
        "outputId": "e7614037-64a5-4536-d66e-2e6d9da1db80"
      },
      "execution_count": 17,
      "outputs": [
        {
          "output_type": "stream",
          "name": "stdout",
          "text": [
            "Vehicle type: Electric\n"
          ]
        }
      ]
    },
    {
      "cell_type": "code",
      "source": [
        "my_car.show_brand()"
      ],
      "metadata": {
        "colab": {
          "base_uri": "https://localhost:8080/"
        },
        "id": "ndSJLJ9FI0sA",
        "outputId": "789c14ed-ccc6-4f10-f5bf-c553536fe398"
      },
      "execution_count": 18,
      "outputs": [
        {
          "output_type": "stream",
          "name": "stdout",
          "text": [
            "Car brand: Tesla\n"
          ]
        }
      ]
    },
    {
      "cell_type": "code",
      "source": [
        "my_car.show_battery()"
      ],
      "metadata": {
        "colab": {
          "base_uri": "https://localhost:8080/"
        },
        "id": "JpnW8HLmI3Qf",
        "outputId": "a2235e86-f9fe-4c5a-e2c5-c793094a00c2"
      },
      "execution_count": 19,
      "outputs": [
        {
          "output_type": "stream",
          "name": "stdout",
          "text": [
            "Battery capacity: 75 kWh\n"
          ]
        }
      ]
    },
    {
      "cell_type": "code",
      "execution_count": 20,
      "metadata": {
        "id": "qhWjC9sHCB-4"
      },
      "outputs": [],
      "source": [
        "#Ans:-4\n",
        "class Bird:\n",
        "    def fly(self):\n",
        "        print(\"The bird is flying.\")\n",
        "\n",
        "class Sparrow(Bird):\n",
        "    def fly(self):\n",
        "        print(\"Sparrow can fly high!\")\n",
        "\n",
        "class Penguin(Bird):\n",
        "    def fly(self):\n",
        "        print(\"Penguin can't fly, it swims instead.\")\n",
        "\n",
        "def bird_flight(bird):\n",
        "    bird.fly()"
      ]
    },
    {
      "cell_type": "code",
      "source": [
        "s = Sparrow()\n",
        "p = Penguin()"
      ],
      "metadata": {
        "id": "cnswHX6aKaDZ"
      },
      "execution_count": 24,
      "outputs": []
    },
    {
      "cell_type": "code",
      "source": [
        "bird_flight(s)"
      ],
      "metadata": {
        "colab": {
          "base_uri": "https://localhost:8080/"
        },
        "id": "fk5jPAxiKp8-",
        "outputId": "1f5fa78f-ac6d-4666-8d9c-6353129ce66a"
      },
      "execution_count": 25,
      "outputs": [
        {
          "output_type": "stream",
          "name": "stdout",
          "text": [
            "Sparrow can fly high!\n"
          ]
        }
      ]
    },
    {
      "cell_type": "code",
      "source": [
        "bird_flight(p)"
      ],
      "metadata": {
        "colab": {
          "base_uri": "https://localhost:8080/"
        },
        "id": "GQYbKcwIK0dk",
        "outputId": "09f7e5aa-71e6-4fe0-c31a-bf59998572a4"
      },
      "execution_count": 26,
      "outputs": [
        {
          "output_type": "stream",
          "name": "stdout",
          "text": [
            "Penguin can't fly, it swims instead.\n"
          ]
        }
      ]
    },
    {
      "cell_type": "code",
      "execution_count": 29,
      "metadata": {
        "id": "WD2dzapGCCGs"
      },
      "outputs": [],
      "source": [
        "#Ans:-5\n",
        "\n",
        "class BankAccount:\n",
        "    def __init__(self, initial_balance=0):\n",
        "        self.__balance = initial_balance\n",
        "\n",
        "    def deposit(self, amount):\n",
        "        if amount > 0:\n",
        "            self.__balance += amount\n",
        "            print(f\"Deposited: {amount}\")\n",
        "        else:\n",
        "            print(\"Invalid deposit amount.\")\n",
        "\n",
        "    def withdraw(self, amount):\n",
        "        if 0 < amount <= self.__balance:\n",
        "            self.__balance -= amount\n",
        "            print(f\"Withdrew: {amount}\")\n",
        "        else:\n",
        "            print(\"Insufficient balance or invalid amount.\")\n",
        "\n",
        "    def get_balance(self):\n",
        "        print(f\"Current balance: {self.__balance}\")\n"
      ]
    },
    {
      "cell_type": "code",
      "source": [
        "account = BankAccount(100)\n",
        "account.get_balance()"
      ],
      "metadata": {
        "colab": {
          "base_uri": "https://localhost:8080/"
        },
        "id": "gbsLmcORLbeM",
        "outputId": "efd75b0b-c2a4-4370-9e7d-9aecd7266cda"
      },
      "execution_count": 30,
      "outputs": [
        {
          "output_type": "stream",
          "name": "stdout",
          "text": [
            "Current balance: 100\n"
          ]
        }
      ]
    },
    {
      "cell_type": "code",
      "source": [
        "account.deposit(50)\n",
        "account.get_balance()"
      ],
      "metadata": {
        "colab": {
          "base_uri": "https://localhost:8080/"
        },
        "id": "tzw6ReW5LmG9",
        "outputId": "91182482-813f-4ccf-aeea-dc25a35344e6"
      },
      "execution_count": 31,
      "outputs": [
        {
          "output_type": "stream",
          "name": "stdout",
          "text": [
            "Deposited: 50\n",
            "Current balance: 150\n"
          ]
        }
      ]
    },
    {
      "cell_type": "code",
      "source": [
        "account.withdraw(30)\n",
        "account.get_balance()"
      ],
      "metadata": {
        "colab": {
          "base_uri": "https://localhost:8080/"
        },
        "id": "ZUV9Nn11LsOM",
        "outputId": "c3e81d04-c1d5-4982-d1e3-28eee8deef7b"
      },
      "execution_count": 32,
      "outputs": [
        {
          "output_type": "stream",
          "name": "stdout",
          "text": [
            "Withdrew: 30\n",
            "Current balance: 120\n"
          ]
        }
      ]
    },
    {
      "cell_type": "code",
      "execution_count": 35,
      "metadata": {
        "id": "YIPSqSApCCMT"
      },
      "outputs": [],
      "source": [
        "#Ans:-6\n",
        "class Instrument:\n",
        "    def play(self):\n",
        "        print(\"Playing an instrument.\")\n",
        "\n",
        "class Guitar(Instrument):\n",
        "    def play(self):\n",
        "        print(\"Strumming the guitar.\")\n",
        "\n",
        "class Piano(Instrument):\n",
        "    def play(self):\n",
        "        print(\"Playing the piano.\")\n",
        "def perform(instrument):\n",
        "    instrument.play()"
      ]
    },
    {
      "cell_type": "code",
      "source": [
        "g = Guitar()\n",
        "p = Piano()\n",
        "perform(g)\n",
        "perform(p)"
      ],
      "metadata": {
        "colab": {
          "base_uri": "https://localhost:8080/"
        },
        "id": "oYSieSr_RFSh",
        "outputId": "d4a7b4f1-adf1-45fe-8062-04bb897f9f88"
      },
      "execution_count": 37,
      "outputs": [
        {
          "output_type": "stream",
          "name": "stdout",
          "text": [
            "Strumming the guitar.\n",
            "Playing the piano.\n"
          ]
        }
      ]
    },
    {
      "cell_type": "code",
      "execution_count": 38,
      "metadata": {
        "id": "jAyau-poCCRZ"
      },
      "outputs": [],
      "source": [
        "#Ans:-7\n",
        "class MathOperations:\n",
        "    @classmethod\n",
        "    def add_numbers(cls, a, b):\n",
        "        return a + b\n",
        "\n",
        "    @staticmethod\n",
        "    def subtract_numbers(a, b):\n",
        "        return a - b"
      ]
    },
    {
      "cell_type": "code",
      "source": [
        "result1 = MathOperations.add_numbers(10, 5)\n",
        "result1"
      ],
      "metadata": {
        "colab": {
          "base_uri": "https://localhost:8080/"
        },
        "id": "pkoviC9DRhLt",
        "outputId": "4c95e82e-389c-44e2-d1e5-22f7457e2377"
      },
      "execution_count": 100,
      "outputs": [
        {
          "output_type": "execute_result",
          "data": {
            "text/plain": [
              "15"
            ]
          },
          "metadata": {},
          "execution_count": 100
        }
      ]
    },
    {
      "cell_type": "code",
      "source": [
        "result2 = MathOperations.subtract_numbers(10, 5)\n",
        "result2"
      ],
      "metadata": {
        "colab": {
          "base_uri": "https://localhost:8080/"
        },
        "id": "hTV77zuYRtCt",
        "outputId": "c4a4af02-8eee-41f7-901f-38cf5189447f"
      },
      "execution_count": 101,
      "outputs": [
        {
          "output_type": "execute_result",
          "data": {
            "text/plain": [
              "5"
            ]
          },
          "metadata": {},
          "execution_count": 101
        }
      ]
    },
    {
      "cell_type": "code",
      "execution_count": 41,
      "metadata": {
        "id": "WlVTvxoDCCVm"
      },
      "outputs": [],
      "source": [
        "#Ans:-8\n",
        "\n",
        "class Person:\n",
        "    count = 0\n",
        "\n",
        "    def __init__(self, name):\n",
        "        self.name = name\n",
        "        Person.count += 1\n",
        "\n",
        "    @classmethod\n",
        "    def total_persons(cls):\n",
        "        return cls.count"
      ]
    },
    {
      "cell_type": "code",
      "source": [
        "p1 = Person(\"anil\")\n",
        "p2 = Person(\"vikas\")\n",
        "p3 = Person(\"lokesh\")"
      ],
      "metadata": {
        "id": "3U-gmsJqUNTu"
      },
      "execution_count": 42,
      "outputs": []
    },
    {
      "cell_type": "code",
      "source": [
        "Person.total_persons()"
      ],
      "metadata": {
        "colab": {
          "base_uri": "https://localhost:8080/"
        },
        "id": "ULojfN7IUeWw",
        "outputId": "925558ac-f4f0-4643-c6c5-5313c1e5587c"
      },
      "execution_count": 44,
      "outputs": [
        {
          "output_type": "execute_result",
          "data": {
            "text/plain": [
              "3"
            ]
          },
          "metadata": {},
          "execution_count": 44
        }
      ]
    },
    {
      "cell_type": "code",
      "execution_count": 46,
      "metadata": {
        "id": "ZaeL4XNjCCZi"
      },
      "outputs": [],
      "source": [
        "#Ans:-9\n",
        "class Fraction:\n",
        "    def __init__(self, numerator, denominator):\n",
        "        self.numerator = numerator\n",
        "        self.denominator = denominator\n",
        "    def __str__(self):\n",
        "        return f\"{self.numerator}/{self.denominator}\""
      ]
    },
    {
      "cell_type": "code",
      "source": [
        "f1 = Fraction(3, 4)\n",
        "f2 = Fraction(5, 8)\n",
        "\n",
        "print(f1)\n",
        "print(f2)"
      ],
      "metadata": {
        "colab": {
          "base_uri": "https://localhost:8080/"
        },
        "id": "XiT72kO7UyR1",
        "outputId": "1e720f2a-fdf6-4802-fa37-e3f4cc64ac7d"
      },
      "execution_count": 50,
      "outputs": [
        {
          "output_type": "stream",
          "name": "stdout",
          "text": [
            "3/4\n",
            "5/8\n"
          ]
        }
      ]
    },
    {
      "cell_type": "code",
      "execution_count": 51,
      "metadata": {
        "id": "21dHVIxhCCkG"
      },
      "outputs": [],
      "source": [
        "#Ans:-10\n",
        "class Vector:\n",
        "    def __init__(self, x, y):\n",
        "        self.x = x\n",
        "        self.y = y\n",
        "    def __add__(self, other):\n",
        "        return Vector(self.x + other.x, self.y + other.y)\n",
        "    def __str__(self):\n",
        "        return f\"({self.x}, {self.y})\""
      ]
    },
    {
      "cell_type": "code",
      "source": [
        "v1 = Vector(2, 3)\n",
        "v2 = Vector(4, 5)\n",
        "v3 = v1 + v2\n"
      ],
      "metadata": {
        "id": "Nm8gVQPgVM1a"
      },
      "execution_count": 105,
      "outputs": []
    },
    {
      "cell_type": "code",
      "execution_count": 53,
      "metadata": {
        "id": "b8t9X0vsCCnX"
      },
      "outputs": [],
      "source": [
        "#Ans:-11\n",
        "class Person:\n",
        "    def __init__(self, name, age):\n",
        "        self.name = name\n",
        "        self.age = age\n",
        "\n",
        "    def greet(self):\n",
        "        print(f\"Hello, my name is {self.name} and I am {self.age} years old.\")\n"
      ]
    },
    {
      "cell_type": "code",
      "source": [
        "person1 = Person(\"anil\", 25)\n",
        "person1.greet()"
      ],
      "metadata": {
        "colab": {
          "base_uri": "https://localhost:8080/"
        },
        "id": "nmzBvsCVVqDD",
        "outputId": "44c40b5e-ae3e-4cc2-9b25-396ca15dac02"
      },
      "execution_count": 57,
      "outputs": [
        {
          "output_type": "stream",
          "name": "stdout",
          "text": [
            "Hello, my name is anil and I am 25 years old.\n"
          ]
        }
      ]
    },
    {
      "cell_type": "code",
      "source": [
        "person2 = Person(\"vikas\", 30)\n",
        "person2.greet()"
      ],
      "metadata": {
        "colab": {
          "base_uri": "https://localhost:8080/"
        },
        "id": "HnoMViuiVsla",
        "outputId": "acfd7151-4b1f-4b52-dae0-db25cd154284"
      },
      "execution_count": 56,
      "outputs": [
        {
          "output_type": "stream",
          "name": "stdout",
          "text": [
            "Hello, my name is vikas and I am 30 years old.\n"
          ]
        }
      ]
    },
    {
      "cell_type": "code",
      "execution_count": 58,
      "metadata": {
        "id": "JPwT66viCCrI"
      },
      "outputs": [],
      "source": [
        "#Ans:-12\n",
        "class Student:\n",
        "    def __init__(self, name, grades):\n",
        "        self.name = name\n",
        "        self.grades = grades\n",
        "    def average_grade(self):\n",
        "        if len(self.grades) == 0:\n",
        "            return 0\n",
        "        return sum(self.grades) / len(self.grades)"
      ]
    },
    {
      "cell_type": "code",
      "source": [
        "s1 = Student(\"anil\", [85, 90, 78])\n",
        "print(f\"{student1.name}'s average grade: {student1.average_grade()}\")"
      ],
      "metadata": {
        "colab": {
          "base_uri": "https://localhost:8080/"
        },
        "id": "URsHb4WWWFbs",
        "outputId": "9a36763c-1747-4a2b-a391-7f8d6e2a3731"
      },
      "execution_count": 61,
      "outputs": [
        {
          "output_type": "stream",
          "name": "stdout",
          "text": [
            "anil's average grade: 84.33333333333333\n"
          ]
        }
      ]
    },
    {
      "cell_type": "code",
      "source": [
        "s2 = Student(\"vikas\", [70, 88, 92, 75])\n",
        "print(f\"{student2.name}'s average grade: {student2.average_grade()}\")"
      ],
      "metadata": {
        "colab": {
          "base_uri": "https://localhost:8080/"
        },
        "id": "l517FGgmWVmy",
        "outputId": "56ab6a24-21bd-4a57-d72d-5ab1b45b944c"
      },
      "execution_count": 77,
      "outputs": [
        {
          "output_type": "stream",
          "name": "stdout",
          "text": [
            "vikas's average grade: 81.25\n"
          ]
        }
      ]
    },
    {
      "cell_type": "code",
      "execution_count": 64,
      "metadata": {
        "id": "MCnAW17pCCw4"
      },
      "outputs": [],
      "source": [
        "#Ans:-13\n",
        "class Rectangle:\n",
        "    def __init__(self):\n",
        "        self.length = 0\n",
        "        self.width = 0\n",
        "\n",
        "    def set_dimensions(self, length, width):\n",
        "        self.length = length\n",
        "        self.width = width\n",
        "\n",
        "    def area(self):\n",
        "        return self.length * self.width"
      ]
    },
    {
      "cell_type": "code",
      "source": [
        "rect = Rectangle()\n",
        "rect.set_dimensions(5, 3)\n",
        "rect.area()"
      ],
      "metadata": {
        "colab": {
          "base_uri": "https://localhost:8080/"
        },
        "id": "wVEB4e5IWoK2",
        "outputId": "e672f087-94cb-4302-b6fc-7eb19a72565b"
      },
      "execution_count": 65,
      "outputs": [
        {
          "output_type": "execute_result",
          "data": {
            "text/plain": [
              "15"
            ]
          },
          "metadata": {},
          "execution_count": 65
        }
      ]
    },
    {
      "cell_type": "code",
      "execution_count": 69,
      "metadata": {
        "id": "0kNzHAhrCC1b"
      },
      "outputs": [],
      "source": [
        "#Ans:-14\n",
        "# Base class\n",
        "class Employee:\n",
        "    def calculate_salary(self, hours_worked, hourly_rate):\n",
        "        return hours_worked * hourly_rate\n",
        "\n",
        "class Manager(Employee):\n",
        "    def __init__(self, bonus):\n",
        "        self.bonus = bonus\n",
        "\n",
        "    def calculate_salary(self, hours_worked, hourly_rate):\n",
        "        base_salary = super().calculate_salary(hours_worked, hourly_rate)\n",
        "        return base_salary + self.bonus"
      ]
    },
    {
      "cell_type": "code",
      "source": [
        "e = Employee()\n",
        "e.calculate_salary(40, 20)"
      ],
      "metadata": {
        "colab": {
          "base_uri": "https://localhost:8080/"
        },
        "id": "hjPw4kIuW7xX",
        "outputId": "09c8d671-93de-42cd-baea-0d27cf3c7064"
      },
      "execution_count": 70,
      "outputs": [
        {
          "output_type": "execute_result",
          "data": {
            "text/plain": [
              "800"
            ]
          },
          "metadata": {},
          "execution_count": 70
        }
      ]
    },
    {
      "cell_type": "code",
      "source": [
        "m = Manager(bonus=500)\n",
        "m.calculate_salary(40, 20)\n"
      ],
      "metadata": {
        "colab": {
          "base_uri": "https://localhost:8080/"
        },
        "id": "lk0GW6_oXQQI",
        "outputId": "34fd4989-fd9b-4b4e-b4f2-9be17af4cb24"
      },
      "execution_count": 71,
      "outputs": [
        {
          "output_type": "execute_result",
          "data": {
            "text/plain": [
              "1300"
            ]
          },
          "metadata": {},
          "execution_count": 71
        }
      ]
    },
    {
      "cell_type": "code",
      "execution_count": 72,
      "metadata": {
        "id": "ARaGGBPNCC5X"
      },
      "outputs": [],
      "source": [
        "#Ans:-15\n",
        "class Product:\n",
        "    def __init__(self, name, price, quantity):\n",
        "        self.name = name\n",
        "        self.price = price\n",
        "        self.quantity = quantity\n",
        "\n",
        "    def total_price(self):\n",
        "        return self.price * self.quantity"
      ]
    },
    {
      "cell_type": "code",
      "source": [
        "p1 = Product(\"Notebook\", 2.5, 4)\n",
        "p1.name"
      ],
      "metadata": {
        "colab": {
          "base_uri": "https://localhost:8080/",
          "height": 36
        },
        "id": "1bU8d2GRXwR0",
        "outputId": "aed3358a-11dd-46a5-f81d-73fe7b5ded7c"
      },
      "execution_count": 74,
      "outputs": [
        {
          "output_type": "execute_result",
          "data": {
            "text/plain": [
              "'Notebook'"
            ],
            "application/vnd.google.colaboratory.intrinsic+json": {
              "type": "string"
            }
          },
          "metadata": {},
          "execution_count": 74
        }
      ]
    },
    {
      "cell_type": "code",
      "source": [
        "p1.total_price()"
      ],
      "metadata": {
        "colab": {
          "base_uri": "https://localhost:8080/"
        },
        "id": "PTAW_SLfX_ej",
        "outputId": "6034fb8c-253b-4c0b-a381-c2557112390f"
      },
      "execution_count": 75,
      "outputs": [
        {
          "output_type": "execute_result",
          "data": {
            "text/plain": [
              "10.0"
            ]
          },
          "metadata": {},
          "execution_count": 75
        }
      ]
    },
    {
      "cell_type": "code",
      "source": [
        "#Ans:-16\n",
        "from abc import ABC, abstractmethod\n",
        "class Animal(ABC):\n",
        "    @abstractmethod\n",
        "    def sound(self):\n",
        "        pass\n",
        "\n",
        "class Cow(Animal):\n",
        "    def sound(self):\n",
        "        print(\"Cow says Moo!\")\n",
        "\n",
        "class Sheep(Animal):\n",
        "    def sound(self):\n",
        "        print(\"Sheep says Baa!\")"
      ],
      "metadata": {
        "id": "dOmewisUB--f"
      },
      "execution_count": 78,
      "outputs": []
    },
    {
      "cell_type": "code",
      "source": [
        "c = Cow()\n",
        "s = Sheep()"
      ],
      "metadata": {
        "id": "qUQqBYynY75A"
      },
      "execution_count": 79,
      "outputs": []
    },
    {
      "cell_type": "code",
      "source": [
        "c.sound()"
      ],
      "metadata": {
        "colab": {
          "base_uri": "https://localhost:8080/"
        },
        "id": "YFdZYTvaZMVe",
        "outputId": "82f76f3b-de0c-49cb-f086-519f4627b22f"
      },
      "execution_count": 80,
      "outputs": [
        {
          "output_type": "stream",
          "name": "stdout",
          "text": [
            "Cow says Moo!\n"
          ]
        }
      ]
    },
    {
      "cell_type": "code",
      "source": [
        "s.sound()"
      ],
      "metadata": {
        "colab": {
          "base_uri": "https://localhost:8080/"
        },
        "id": "2_5nDg3VZOWO",
        "outputId": "34b030da-cafa-456a-fb28-84336f3e7077"
      },
      "execution_count": 81,
      "outputs": [
        {
          "output_type": "stream",
          "name": "stdout",
          "text": [
            "Sheep says Baa!\n"
          ]
        }
      ]
    },
    {
      "cell_type": "code",
      "source": [
        "#Ans:-17\n",
        "\n",
        "class Book:\n",
        "    def __init__(self, title, author, year_published):\n",
        "        self.title = title\n",
        "        self.author = author\n",
        "        self.year_published = year_published\n",
        "\n",
        "    def get_book_info(self):\n",
        "        return f\"'{self.title}' by {self.author}, published in {self.year_published}\""
      ],
      "metadata": {
        "id": "SvqXkVTGB_Ua"
      },
      "execution_count": 82,
      "outputs": []
    },
    {
      "cell_type": "code",
      "source": [
        "b1 = Book(\"The autobiography of yogi\", \"Paramahansa Yogananda\", 1946)\n",
        "b2 = Book(\"1984\", \"George Orwell\", 1949)"
      ],
      "metadata": {
        "id": "YnVJeVTBZdyI"
      },
      "execution_count": 85,
      "outputs": []
    },
    {
      "cell_type": "code",
      "source": [
        "b1.get_book_info()"
      ],
      "metadata": {
        "colab": {
          "base_uri": "https://localhost:8080/",
          "height": 36
        },
        "id": "t3RZ4IeaZjQd",
        "outputId": "64276143-3cea-49c7-904d-708b00b1a9b5"
      },
      "execution_count": 86,
      "outputs": [
        {
          "output_type": "execute_result",
          "data": {
            "text/plain": [
              "\"'The autobiography of yogi' by Paramahansa Yogananda, published in 1946\""
            ],
            "application/vnd.google.colaboratory.intrinsic+json": {
              "type": "string"
            }
          },
          "metadata": {},
          "execution_count": 86
        }
      ]
    },
    {
      "cell_type": "code",
      "source": [
        "b2.get_book_info()"
      ],
      "metadata": {
        "colab": {
          "base_uri": "https://localhost:8080/",
          "height": 36
        },
        "id": "W6LYbn_UZoX4",
        "outputId": "4ffd4e63-a6b3-41a0-afcd-2fb3dcf8cc1e"
      },
      "execution_count": 88,
      "outputs": [
        {
          "output_type": "execute_result",
          "data": {
            "text/plain": [
              "\"'1984' by George Orwell, published in 1949\""
            ],
            "application/vnd.google.colaboratory.intrinsic+json": {
              "type": "string"
            }
          },
          "metadata": {},
          "execution_count": 88
        }
      ]
    },
    {
      "cell_type": "code",
      "source": [
        "#Ans:-18\n",
        "\n",
        "# Base class\n",
        "class House:\n",
        "    def __init__(self, address, price):\n",
        "        self.address = address\n",
        "        self.price = price\n",
        "\n",
        "    def get_house_info(self):\n",
        "        return f\"Address: {self.address}, Price: {self.price}\"\n",
        "\n",
        "class Mansion(House):\n",
        "    def __init__(self, address, price, number_of_rooms):\n",
        "        # Call the base class constructor\n",
        "        super().__init__(address, price)\n",
        "        self.number_of_rooms = number_of_rooms\n",
        "\n",
        "    def get_mansion_info(self):\n",
        "        return f\"{self.get_house_info()}, Rooms: {self.number_of_rooms}\""
      ],
      "metadata": {
        "id": "g_O2kFgUaCxo"
      },
      "execution_count": 90,
      "outputs": []
    },
    {
      "cell_type": "code",
      "source": [
        "h1 = House(\"123 gandhi puram, bareilly\", 250000)\n",
        "m1 = Mansion(\"456 gomti nager, Lucknow\", 1000000, 10)"
      ],
      "metadata": {
        "id": "CQX55vTBaOvu"
      },
      "execution_count": 93,
      "outputs": []
    },
    {
      "cell_type": "code",
      "source": [
        "h1.get_house_info()"
      ],
      "metadata": {
        "colab": {
          "base_uri": "https://localhost:8080/",
          "height": 36
        },
        "id": "pFM0HjpPahUT",
        "outputId": "a19af901-681c-4203-9001-942e25f486bb"
      },
      "execution_count": 94,
      "outputs": [
        {
          "output_type": "execute_result",
          "data": {
            "text/plain": [
              "'Address: 123 gandhi puram, bareilly, Price: 250000'"
            ],
            "application/vnd.google.colaboratory.intrinsic+json": {
              "type": "string"
            }
          },
          "metadata": {},
          "execution_count": 94
        }
      ]
    },
    {
      "cell_type": "code",
      "source": [
        "m1.get_mansion_info()"
      ],
      "metadata": {
        "colab": {
          "base_uri": "https://localhost:8080/",
          "height": 36
        },
        "id": "HoPhmmw3ajJJ",
        "outputId": "8a18c997-912d-4f80-8340-24bfdeffd793"
      },
      "execution_count": 95,
      "outputs": [
        {
          "output_type": "execute_result",
          "data": {
            "text/plain": [
              "'Address: 456 gomti nager, Lucknow, Price: 1000000, Rooms: 10'"
            ],
            "application/vnd.google.colaboratory.intrinsic+json": {
              "type": "string"
            }
          },
          "metadata": {},
          "execution_count": 95
        }
      ]
    },
    {
      "cell_type": "code",
      "source": [],
      "metadata": {
        "id": "X11niEk0axmx"
      },
      "execution_count": null,
      "outputs": []
    }
  ]
}