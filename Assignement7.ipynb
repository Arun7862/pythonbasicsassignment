{
  "nbformat": 4,
  "nbformat_minor": 0,
  "metadata": {
    "colab": {
      "provenance": []
    },
    "kernelspec": {
      "name": "python3",
      "display_name": "Python 3"
    },
    "language_info": {
      "name": "python"
    }
  },
  "cells": [
    {
      "cell_type": "markdown",
      "source": [
        "#  Theory"
      ],
      "metadata": {
        "id": "WypXdvF6opfi"
      }
    },
    {
      "cell_type": "markdown",
      "source": [
        "Ans:1-   \n",
        "     A RESTful API is a type of API that uses the principles of Representational State Transfer (REST) to communicate between different systems over the internet.\n",
        "\n",
        "Ans:2-   \n",
        "     An API (Application Programming Interface) specification is a blueprint that describes how an API behaves and interacts with other systems\n",
        "\n",
        "Ans:3-\n",
        "     Flask is a lightweight Python micro web framework used for building web applications and APIs. Its popularity for API development stems from its simplicity, flexibility, and ability to easily create RESTful APIs, making it a good choice for small to medium-sized projects.\n",
        "\n",
        "Ans:4-\n",
        "     In Flask, routing is the mechanism that maps specific URLs to Python functions. When a user accesses a URL, Flask executes the corresponding view function, which then generates and returns a response.\n",
        "\n",
        "\n",
        "Ans:5-\n",
        "    from flask import Flask\n",
        "\n",
        "     app = Flask(__name__)\n",
        "\n",
        "Ans:6-\n",
        "    In RESTful APIs, the most commonly used HTTP methods are GET, POST, PUT, PATCH, and DELETE.\n",
        "\n",
        "Ans:7-\n",
        "    This process is known as routing, and it's fundamental to how web applications handle user requests.\n",
        "\n",
        "Ans:8-\n",
        "    GET retrieves data, and data is included in the URL, while POST sends data to a server to create or update resources, and data is sent in the request body.\n",
        "\n",
        "Ans:9-\n",
        "    \n",
        "Ans:10-\n",
        "\n",
        "Ans:11-\n",
        "     Flask SQLAlchemy enables developers to perform tasks like defining models, creating queries.\n",
        "\n",
        "Ans:12-\n",
        "     Each Flask Blueprint is an object that works very similarly to a Flask application.\n",
        "\n",
        "Ans:13-\n",
        "     The Flask request object is a crucial component for handling incoming HTTP requests, like- Accessing Request Data, Identifying the Request, etc\n",
        "\n",
        "Ans:14-\n",
        "\n",
        "Ans:15-\n",
        "     Flask's jsonify() function converts Python dictionaries or lists into JSON format  \n",
        "\n",
        "Ans:16-\n",
        "     url_for() is a Flask function that generates a URL to a specific function dynamically.\n",
        "\n",
        "Ans:17-\n",
        "     Typically named \"static,\" located in the same directory as your main application file.\n",
        "\n",
        "Ans:18-\n",
        "\n",
        "Ans:19-\n",
        "     HTTP response status codes indicate whether a specific HTTP request has been successfully completed.\n",
        "\n",
        "Ans:20-\n",
        "\n",
        "Ans:21-\n",
        "\n",
        "Ans:22-\n",
        "     The Flask RESTful extension significantly simplifies the development of RESTful APIs within Flask applications.  \n",
        "     \n",
        "Ans:23-\n",
        "     In Flask, the session object allows developers to store and retrieve user-specific data across multiple HTTP requests.\n",
        "\n",
        "\n",
        "Ans:14-\n",
        "\n",
        "Ans:14-\n",
        "\n",
        "\n",
        "\n"
      ],
      "metadata": {
        "id": "0ZY2HaCHpCw5"
      }
    },
    {
      "cell_type": "markdown",
      "source": [
        "#   Practical Question"
      ],
      "metadata": {
        "id": "sispyJfOvkAs"
      }
    },
    {
      "cell_type": "code",
      "execution_count": 2,
      "metadata": {
        "colab": {
          "base_uri": "https://localhost:8080/"
        },
        "id": "sAlLBIJuogxE",
        "outputId": "f2b5d4e9-b838-4593-f364-5a8e3bd72225"
      },
      "outputs": [
        {
          "output_type": "stream",
          "name": "stdout",
          "text": [
            "Requirement already satisfied: flask in /usr/local/lib/python3.11/dist-packages (3.1.1)\n",
            "Requirement already satisfied: blinker>=1.9.0 in /usr/local/lib/python3.11/dist-packages (from flask) (1.9.0)\n",
            "Requirement already satisfied: click>=8.1.3 in /usr/local/lib/python3.11/dist-packages (from flask) (8.2.1)\n",
            "Requirement already satisfied: itsdangerous>=2.2.0 in /usr/local/lib/python3.11/dist-packages (from flask) (2.2.0)\n",
            "Requirement already satisfied: jinja2>=3.1.2 in /usr/local/lib/python3.11/dist-packages (from flask) (3.1.6)\n",
            "Requirement already satisfied: markupsafe>=2.1.1 in /usr/local/lib/python3.11/dist-packages (from flask) (3.0.2)\n",
            "Requirement already satisfied: werkzeug>=3.1.0 in /usr/local/lib/python3.11/dist-packages (from flask) (3.1.3)\n"
          ]
        }
      ],
      "source": [
        "#Ans- 1:-\n",
        "!pip install flask\n"
      ]
    },
    {
      "cell_type": "code",
      "source": [
        "from flask import Flask\n",
        "\n",
        "app= Flask(__name__)\n",
        "@app.route(\"/\")\n",
        "def hello_arun():\n",
        "  return \"Hello Arun\"\n",
        "\n",
        "if __name__ == '__main__':\n",
        "    app.run(debug=True)\n"
      ],
      "metadata": {
        "colab": {
          "base_uri": "https://localhost:8080/"
        },
        "id": "MKQmOhl3wtEg",
        "outputId": "825f2c71-7071-4f34-803e-05ed0e070260"
      },
      "execution_count": 6,
      "outputs": [
        {
          "output_type": "stream",
          "name": "stdout",
          "text": [
            " * Serving Flask app '__main__'\n",
            " * Debug mode: on\n"
          ]
        },
        {
          "output_type": "stream",
          "name": "stderr",
          "text": [
            "INFO:werkzeug:\u001b[31m\u001b[1mWARNING: This is a development server. Do not use it in a production deployment. Use a production WSGI server instead.\u001b[0m\n",
            " * Running on http://127.0.0.1:5000\n",
            "INFO:werkzeug:\u001b[33mPress CTRL+C to quit\u001b[0m\n",
            "INFO:werkzeug: * Restarting with stat\n"
          ]
        }
      ]
    },
    {
      "cell_type": "code",
      "source": [
        "python app.py\n"
      ],
      "metadata": {
        "colab": {
          "base_uri": "https://localhost:8080/",
          "height": 110
        },
        "id": "XMaqlNeJzljg",
        "outputId": "a23e5db9-d3ea-450f-b0d2-883a04b236c9"
      },
      "execution_count": 7,
      "outputs": [
        {
          "output_type": "error",
          "ename": "SyntaxError",
          "evalue": "invalid syntax (<ipython-input-7-b851947b46d7>, line 1)",
          "traceback": [
            "\u001b[0;36m  File \u001b[0;32m\"<ipython-input-7-b851947b46d7>\"\u001b[0;36m, line \u001b[0;32m1\u001b[0m\n\u001b[0;31m    python app.py\u001b[0m\n\u001b[0m           ^\u001b[0m\n\u001b[0;31mSyntaxError\u001b[0m\u001b[0;31m:\u001b[0m invalid syntax\n"
          ]
        }
      ]
    }
  ]
}