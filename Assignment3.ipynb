{
  "nbformat": 4,
  "nbformat_minor": 0,
  "metadata": {
    "colab": {
      "provenance": []
    },
    "kernelspec": {
      "name": "python3",
      "display_name": "Python 3"
    },
    "language_info": {
      "name": "python"
    }
  },
  "cells": [
    {
      "cell_type": "markdown",
      "source": [
        "#1. What is the difference between a function and a method in Python?\n",
        "\n",
        "* Ans: A function is a standalone block of code that performs a specific task and is called independently, whereas a method is a function that is associated with an object and is called through that object."
      ],
      "metadata": {
        "id": "DZhVkR7Ay2vI"
      }
    },
    {
      "cell_type": "markdown",
      "source": [
        "# 2. Explain the concept of function arguments and parameters in Python.\n",
        "\n",
        "* Ans. functions can accept inputs, which are specified using parameters and passed as arguments when the function is called.\n",
        "example blow\n",
        "\n"
      ],
      "metadata": {
        "id": "ohlLTpAey23h"
      }
    },
    {
      "cell_type": "code",
      "source": [
        "def add(a,b):\n",
        "  return a + b\n",
        "print(add(6,8))"
      ],
      "metadata": {
        "colab": {
          "base_uri": "https://localhost:8080/"
        },
        "id": "hCt2cYufz0he",
        "outputId": "c7d6edb1-b966-418d-fc1c-44d4735af0db"
      },
      "execution_count": 1,
      "outputs": [
        {
          "output_type": "stream",
          "name": "stdout",
          "text": [
            "14\n"
          ]
        }
      ]
    },
    {
      "cell_type": "markdown",
      "source": [
        "# 3. What are the different ways to define and call a function in Python?\n",
        "\n",
        "* Ans. **def**, **lambda**, **return** are the ways to define and call a function in Python.\n"
      ],
      "metadata": {
        "id": "vnzpWZany26T"
      }
    },
    {
      "cell_type": "code",
      "source": [
        "def squre (a,b):\n",
        "  return a**b\n",
        "print(squre(4,6))"
      ],
      "metadata": {
        "colab": {
          "base_uri": "https://localhost:8080/"
        },
        "id": "wSn2GWc21Qmy",
        "outputId": "17a9be9a-ee7a-4cdc-c7a2-600e66dcb515"
      },
      "execution_count": 3,
      "outputs": [
        {
          "output_type": "stream",
          "name": "stdout",
          "text": [
            "4096\n"
          ]
        }
      ]
    },
    {
      "cell_type": "code",
      "source": [
        "squre= lambda x, y: x**y\n",
        "squre(3,5)"
      ],
      "metadata": {
        "colab": {
          "base_uri": "https://localhost:8080/"
        },
        "id": "bIDM4mIA3Brz",
        "outputId": "21567fe7-0750-4671-8f47-1f8bbedf968a"
      },
      "execution_count": 8,
      "outputs": [
        {
          "output_type": "execute_result",
          "data": {
            "text/plain": [
              "243"
            ]
          },
          "metadata": {},
          "execution_count": 8
        }
      ]
    },
    {
      "cell_type": "markdown",
      "source": [
        "# What is the purpose of the `return` statement in a Python function?\n",
        "\n",
        "* Ans. The return statement in a Python function serves two primary purposes."
      ],
      "metadata": {
        "id": "dF3UiphW3cfR"
      }
    },
    {
      "cell_type": "code",
      "source": [
        "def squre (a,b):\n",
        "  return a*b\n",
        "print(squre(4,6))"
      ],
      "metadata": {
        "colab": {
          "base_uri": "https://localhost:8080/"
        },
        "id": "PhRPxOEC3zEE",
        "outputId": "2bc948af-6374-472b-e8a4-677d2019b5c0"
      },
      "execution_count": 9,
      "outputs": [
        {
          "output_type": "stream",
          "name": "stdout",
          "text": [
            "24\n"
          ]
        }
      ]
    },
    {
      "cell_type": "markdown",
      "source": [
        "# 5. What are iterators in Python and how do they differ from iterables?\n",
        "\n",
        "* Ans. An iterator is an object that allows sequential value in collection of items, like lists, tuples, or strings.\n"
      ],
      "metadata": {
        "id": "H9I5hEQJ3b8u"
      }
    },
    {
      "cell_type": "markdown",
      "source": [
        "# 6. Explain the concept of generators in Python and how they are defined.\n",
        "\n",
        "* Ans. A generator is defined like a regular function but uses the yield keyword instead of return. When a generator function is called, it doesn't execute the function body immediately."
      ],
      "metadata": {
        "id": "m4GHrjNp467w"
      }
    },
    {
      "cell_type": "markdown",
      "source": [
        "# 7. What are the advantages of using generators over regular functions?\n",
        "\n",
        "* Ans. Generators produce values on-demand. functions return the final result, but generators yield values one by one as needed."
      ],
      "metadata": {
        "id": "9Y6Prgt47j5O"
      }
    },
    {
      "cell_type": "code",
      "source": [
        "def abc(n):\n",
        "  i = 0\n",
        "  while i<n:\n",
        "    yield i\n",
        "    i+=1\n",
        "a= abc(5)"
      ],
      "metadata": {
        "id": "E8nVEOrM3bT_"
      },
      "execution_count": 22,
      "outputs": []
    },
    {
      "cell_type": "code",
      "source": [
        "print(next(a))"
      ],
      "metadata": {
        "colab": {
          "base_uri": "https://localhost:8080/"
        },
        "id": "hQAoTxwr3WOi",
        "outputId": "f6e30bb9-1c38-4326-90da-3058b9d9b8ae"
      },
      "execution_count": 23,
      "outputs": [
        {
          "output_type": "stream",
          "name": "stdout",
          "text": [
            "0\n"
          ]
        }
      ]
    },
    {
      "cell_type": "code",
      "source": [
        "print(next(a))"
      ],
      "metadata": {
        "colab": {
          "base_uri": "https://localhost:8080/"
        },
        "id": "1UQY5X_h9UoM",
        "outputId": "5c58a045-3957-4801-e57c-270eab738901"
      },
      "execution_count": 24,
      "outputs": [
        {
          "output_type": "stream",
          "name": "stdout",
          "text": [
            "1\n"
          ]
        }
      ]
    },
    {
      "cell_type": "code",
      "source": [
        "print(next(a))"
      ],
      "metadata": {
        "colab": {
          "base_uri": "https://localhost:8080/"
        },
        "id": "1G9NlG1W9y7g",
        "outputId": "a2d0b6cd-f0c5-48ce-ed01-df7532d8b28a"
      },
      "execution_count": 25,
      "outputs": [
        {
          "output_type": "stream",
          "name": "stdout",
          "text": [
            "2\n"
          ]
        }
      ]
    },
    {
      "cell_type": "markdown",
      "source": [
        "# 8. What is a lambda function in Python and when is it typically used?\n",
        "\n",
        "* Ans. Lambda function is a small, anonymous function that can take any number of arguments but can only have one expression. It's essentially a shorthand way to define a function that you'll likely only use once."
      ],
      "metadata": {
        "id": "KM0_4gAU-ABk"
      }
    },
    {
      "cell_type": "code",
      "source": [
        "squre= lambda x, y: x*y\n",
        "squre(10,29)"
      ],
      "metadata": {
        "colab": {
          "base_uri": "https://localhost:8080/"
        },
        "id": "5vsWMGFs90Ob",
        "outputId": "9926d469-2cc2-4af0-e346-5561a52a4c77"
      },
      "execution_count": 26,
      "outputs": [
        {
          "output_type": "execute_result",
          "data": {
            "text/plain": [
              "290"
            ]
          },
          "metadata": {},
          "execution_count": 26
        }
      ]
    },
    {
      "cell_type": "markdown",
      "source": [
        "#9. Explain the purpose and usage of the `map()` function in Python.\n",
        "\n",
        "* Ans. The map() given function to each item of an iterable and returns an iterator that yields the results. It provides a concise way to perform operations on sequences without explicit loops.\n",
        "\n"
      ],
      "metadata": {
        "id": "00gP2DXd-mzQ"
      }
    },
    {
      "cell_type": "code",
      "source": [
        "def square(a):\n",
        "    return a * a\n",
        "\n",
        "numbers = [2, 3, 4, 5, 10]\n",
        "sq = map(square, numbers)\n",
        "\n",
        "print(list(sq))"
      ],
      "metadata": {
        "colab": {
          "base_uri": "https://localhost:8080/"
        },
        "id": "mV9zU1gz-k3T",
        "outputId": "adaea876-0409-4efa-d718-563c6a4b3731"
      },
      "execution_count": 32,
      "outputs": [
        {
          "output_type": "stream",
          "name": "stdout",
          "text": [
            "[4, 9, 16, 25, 100]\n"
          ]
        }
      ]
    },
    {
      "cell_type": "markdown",
      "source": [
        "# 10. What is the difference between `map()`, `reduce()`, and `filter()` functions in Python?\n",
        "\n",
        "* Ans.\n",
        "\n",
        "  map():\n",
        "Applies a given function to each item in an iterable and returns a map object.\n",
        "\n",
        "  filter():\n",
        "Creates a new iterable containing only the items from the original iterable for which a given function returns True.\n",
        "\n",
        "  reduce():\n",
        "Applies a function cumulatively to the items of an iterable, from left to right, to reduce the iterable to a single value.\n"
      ],
      "metadata": {
        "id": "AYvcZQ59Atkt"
      }
    },
    {
      "cell_type": "markdown",
      "source": [
        "# 11."
      ],
      "metadata": {
        "id": "nDhykezgCIEn"
      }
    },
    {
      "cell_type": "markdown",
      "source": [
        "# Practical Questions:\n"
      ],
      "metadata": {
        "id": "a68uBwQ8Ce4g"
      }
    },
    {
      "cell_type": "code",
      "source": [
        "#1\n",
        "def even_sum(numbers):\n",
        "  sum=0\n",
        "  for n in numbers:\n",
        "    if n%2==0:\n",
        "      sum=sum+n\n",
        "  return sum"
      ],
      "metadata": {
        "id": "aEhYOV_xK3zi"
      },
      "execution_count": 46,
      "outputs": []
    },
    {
      "cell_type": "code",
      "source": [
        "even_sum([1,2,3,4,5,6,7,8,9])"
      ],
      "metadata": {
        "colab": {
          "base_uri": "https://localhost:8080/"
        },
        "id": "jsHPU4pVLKS5",
        "outputId": "387bc08d-90e4-4a80-dba6-603b4129218d"
      },
      "execution_count": 47,
      "outputs": [
        {
          "output_type": "execute_result",
          "data": {
            "text/plain": [
              "20"
            ]
          },
          "metadata": {},
          "execution_count": 47
        }
      ]
    },
    {
      "cell_type": "code",
      "source": [
        "#2 Create a Python function that accepts a string and returns the reverse of that string.\n",
        "text = \"hello\""
      ],
      "metadata": {
        "id": "ZC8TSEYcLZte"
      },
      "execution_count": 31,
      "outputs": []
    },
    {
      "cell_type": "code",
      "source": [
        "def reverse_string(s):\n",
        "    return s[::-1]\n",
        "\n",
        "reversed_text = reverse_string(text)\n",
        "print(reversed_text)\n"
      ],
      "metadata": {
        "colab": {
          "base_uri": "https://localhost:8080/"
        },
        "id": "mRCPAr9qMx4x",
        "outputId": "f1f823ab-da3b-4e00-92a2-c5a922974a53"
      },
      "execution_count": 32,
      "outputs": [
        {
          "output_type": "stream",
          "name": "stdout",
          "text": [
            "olleh\n"
          ]
        }
      ]
    },
    {
      "cell_type": "code",
      "source": [
        "#3\n",
        "nums= [2 , 4, 5, 6, 7, 8, 20, 11]\n",
        "def square_numbers(numbers):\n",
        "    return [x**2 for x in numbers]\n",
        "squared = square_numbers(nums)\n",
        "print(squared)"
      ],
      "metadata": {
        "colab": {
          "base_uri": "https://localhost:8080/"
        },
        "id": "4KOcxJkSrL6t",
        "outputId": "25a76f6b-8f6c-483c-91f4-ade3ef69f3d9"
      },
      "execution_count": 30,
      "outputs": [
        {
          "output_type": "stream",
          "name": "stdout",
          "text": [
            "[4, 16, 25, 36, 49, 64, 400, 121]\n"
          ]
        }
      ]
    },
    {
      "cell_type": "code",
      "source": [
        "#4\n"
      ],
      "metadata": {
        "id": "5muKUdhZzqOP"
      },
      "execution_count": null,
      "outputs": []
    },
    {
      "cell_type": "code",
      "source": [
        "#5\n",
        "def fib(n):\n",
        "  a=0\n",
        "  b=1\n",
        "  for i in range(n):\n",
        "    yield a\n",
        "    a,b = b, a+b"
      ],
      "metadata": {
        "id": "wbKLEUGgSWhA"
      },
      "execution_count": 18,
      "outputs": []
    },
    {
      "cell_type": "code",
      "source": [
        "f= fib(1001)"
      ],
      "metadata": {
        "id": "6c-tE3_VSy_F"
      },
      "execution_count": 26,
      "outputs": []
    },
    {
      "cell_type": "code",
      "source": [
        "next(f)"
      ],
      "metadata": {
        "colab": {
          "base_uri": "https://localhost:8080/"
        },
        "id": "sy61csceS9xq",
        "outputId": "e4468a41-d3c9-4ce9-9e05-c95b9c7ca65d"
      },
      "execution_count": 27,
      "outputs": [
        {
          "output_type": "execute_result",
          "data": {
            "text/plain": [
              "0"
            ]
          },
          "metadata": {},
          "execution_count": 27
        }
      ]
    },
    {
      "cell_type": "code",
      "source": [
        "next(f)"
      ],
      "metadata": {
        "colab": {
          "base_uri": "https://localhost:8080/"
        },
        "id": "P-SrS8ElTEHr",
        "outputId": "6b728d1c-b9e1-4649-d2ed-2769179a3acf"
      },
      "execution_count": 28,
      "outputs": [
        {
          "output_type": "execute_result",
          "data": {
            "text/plain": [
              "1"
            ]
          },
          "metadata": {},
          "execution_count": 28
        }
      ]
    },
    {
      "cell_type": "code",
      "source": [
        "next(f)"
      ],
      "metadata": {
        "colab": {
          "base_uri": "https://localhost:8080/"
        },
        "id": "RulTAQpmTSle",
        "outputId": "c3b1643d-7679-4842-c379-d37d53ca5e57"
      },
      "execution_count": 29,
      "outputs": [
        {
          "output_type": "execute_result",
          "data": {
            "text/plain": [
              "1"
            ]
          },
          "metadata": {},
          "execution_count": 29
        }
      ]
    },
    {
      "cell_type": "code",
      "source": [
        "next(f)"
      ],
      "metadata": {
        "colab": {
          "base_uri": "https://localhost:8080/"
        },
        "id": "7F6TKiLaTTYd",
        "outputId": "e1d3a50f-ab23-4df7-d190-e23c12f6e2aa"
      },
      "execution_count": 30,
      "outputs": [
        {
          "output_type": "execute_result",
          "data": {
            "text/plain": [
              "2"
            ]
          },
          "metadata": {},
          "execution_count": 30
        }
      ]
    },
    {
      "cell_type": "code",
      "source": [
        "next(f)"
      ],
      "metadata": {
        "colab": {
          "base_uri": "https://localhost:8080/"
        },
        "id": "g3BxZB3ETkli",
        "outputId": "f30931f9-f258-4dce-9756-b10330ededc8"
      },
      "execution_count": 31,
      "outputs": [
        {
          "output_type": "execute_result",
          "data": {
            "text/plain": [
              "3"
            ]
          },
          "metadata": {},
          "execution_count": 31
        }
      ]
    },
    {
      "cell_type": "code",
      "source": [
        "next(f)"
      ],
      "metadata": {
        "colab": {
          "base_uri": "https://localhost:8080/"
        },
        "id": "KhtvmvXdTt1F",
        "outputId": "4f8807d5-ee0d-4a26-d73e-ce809a753365"
      },
      "execution_count": 32,
      "outputs": [
        {
          "output_type": "execute_result",
          "data": {
            "text/plain": [
              "5"
            ]
          },
          "metadata": {},
          "execution_count": 32
        }
      ]
    },
    {
      "cell_type": "code",
      "source": [
        "#6\n",
        "def powers(n):\n",
        "  for i in range(n):\n",
        "    yield 2** i"
      ],
      "metadata": {
        "id": "YQBzJPQdTvNO"
      },
      "execution_count": 33,
      "outputs": []
    },
    {
      "cell_type": "code",
      "source": [
        "power= powers(6)\n",
        "for p in power:\n",
        "  print(p)"
      ],
      "metadata": {
        "colab": {
          "base_uri": "https://localhost:8080/"
        },
        "id": "gzxoJM3OULgn",
        "outputId": "9c758d01-d829-4b33-e5d7-183673919e0c"
      },
      "execution_count": 36,
      "outputs": [
        {
          "output_type": "stream",
          "name": "stdout",
          "text": [
            "1\n",
            "2\n",
            "4\n",
            "8\n",
            "16\n",
            "32\n"
          ]
        }
      ]
    },
    {
      "cell_type": "code",
      "source": [
        "#7\n"
      ],
      "metadata": {
        "id": "TRQnCW7TUN-c"
      },
      "execution_count": null,
      "outputs": []
    },
    {
      "cell_type": "code",
      "source": [
        "#8\n",
        "tuples = [(1, 3), (2, 1), (4, 2), (5, 0)]"
      ],
      "metadata": {
        "id": "okwBO5-nVHVn"
      },
      "execution_count": 37,
      "outputs": []
    },
    {
      "cell_type": "code",
      "source": [
        "sorted_list = sorted(tuples, key=lambda x: x[1])\n",
        "\n",
        "print(sorted_list)\n"
      ],
      "metadata": {
        "colab": {
          "base_uri": "https://localhost:8080/"
        },
        "id": "wn3ml_nRVMPV",
        "outputId": "8ac38ae5-46d5-4f87-ee0d-c32e858307b9"
      },
      "execution_count": 38,
      "outputs": [
        {
          "output_type": "stream",
          "name": "stdout",
          "text": [
            "[(5, 0), (2, 1), (4, 2), (1, 3)]\n"
          ]
        }
      ]
    },
    {
      "cell_type": "code",
      "source": [
        "#9\n",
        "c= [10, 25, 45, 37, 42, 34]"
      ],
      "metadata": {
        "id": "kCtfoH3mVZ82"
      },
      "execution_count": 39,
      "outputs": []
    },
    {
      "cell_type": "code",
      "source": [
        "f= list(map(lambda celsius: (celsius * 9/5)+ 32, c))\n",
        "\n",
        "print(f)"
      ],
      "metadata": {
        "colab": {
          "base_uri": "https://localhost:8080/"
        },
        "id": "xnj1GzjmVvf_",
        "outputId": "af5ed5cf-c1e0-40e3-bb15-37ffa5e77a65"
      },
      "execution_count": 41,
      "outputs": [
        {
          "output_type": "stream",
          "name": "stdout",
          "text": [
            "[50.0, 77.0, 113.0, 98.6, 107.6, 93.2]\n"
          ]
        }
      ]
    },
    {
      "cell_type": "code",
      "source": [
        "#10.\n"
      ],
      "metadata": {
        "id": "vK3mMAbJWMre"
      },
      "execution_count": null,
      "outputs": []
    }
  ]
}